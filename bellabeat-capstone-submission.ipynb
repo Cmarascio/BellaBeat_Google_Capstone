{
 "cells": [
  {
   "cell_type": "markdown",
   "id": "e73333db",
   "metadata": {
    "papermill": {
     "duration": 0.019014,
     "end_time": "2022-06-14T03:56:38.046072",
     "exception": false,
     "start_time": "2022-06-14T03:56:38.027058",
     "status": "completed"
    },
    "tags": []
   },
   "source": [
    "# BellaBeat Exploratory Analysis\n",
    "\n",
    "### Cleaning, Code, and Comments by Cristi Marascio"
   ]
  },
  {
   "cell_type": "markdown",
   "id": "8feea0e8",
   "metadata": {
    "papermill": {
     "duration": 0.017866,
     "end_time": "2022-06-14T03:56:38.081811",
     "exception": false,
     "start_time": "2022-06-14T03:56:38.063945",
     "status": "completed"
    },
    "tags": []
   },
   "source": [
    "### Executive Summary\n",
    "This EDA will focus on the Time product line as it is most like the FitBit that was used to extract the data.\n",
    "\n",
    "The more features on the device i.e. Activity, sleep, and weight trackers the user engaged with the more consistently they used the product.\n",
    "Since the Fitbit and Time are similar in use and demographic we can apply trends noted in use to help market Time.\n",
    "We see a reduction in use among most of the users as time progresses. Further study is needed around the 20-30 day from purchase mark to see why use falls off, but gathering that data can help us create a marketing strategy to increase engagement and create a more loyal customer."
   ]
  },
  {
   "cell_type": "markdown",
   "id": "f9faeb16",
   "metadata": {
    "papermill": {
     "duration": 0.017482,
     "end_time": "2022-06-14T03:56:38.117927",
     "exception": false,
     "start_time": "2022-06-14T03:56:38.100445",
     "status": "completed"
    },
    "tags": []
   },
   "source": [
    "## Ask\n",
    "1. What are some trends in smart device usage?\n",
    "2. How could these trends apply to Bellabeat customers?\n",
    "3. How could these trends help influence Bellabeat marketing strategy?"
   ]
  },
  {
   "cell_type": "markdown",
   "id": "1441e67b",
   "metadata": {
    "papermill": {
     "duration": 0.017613,
     "end_time": "2022-06-14T03:56:38.153476",
     "exception": false,
     "start_time": "2022-06-14T03:56:38.135863",
     "status": "completed"
    },
    "tags": []
   },
   "source": [
    "#### Import the Libraries to be used"
   ]
  },
  {
   "cell_type": "code",
   "execution_count": 1,
   "id": "fef8aa56",
   "metadata": {
    "execution": {
     "iopub.execute_input": "2022-06-14T03:56:38.191581Z",
     "iopub.status.busy": "2022-06-14T03:56:38.190868Z",
     "iopub.status.idle": "2022-06-14T03:56:39.289704Z",
     "shell.execute_reply": "2022-06-14T03:56:39.288981Z"
    },
    "papermill": {
     "duration": 1.120971,
     "end_time": "2022-06-14T03:56:39.292148",
     "exception": false,
     "start_time": "2022-06-14T03:56:38.171177",
     "status": "completed"
    },
    "tags": []
   },
   "outputs": [],
   "source": [
    "# import libraries for data manipulation\n",
    "import numpy as np\n",
    "import pandas as pd\n",
    "\n",
    "# import libraries for data visualization\n",
    "import matplotlib.pyplot as plt\n",
    "import seaborn as sns"
   ]
  },
  {
   "cell_type": "markdown",
   "id": "06da18c1",
   "metadata": {
    "papermill": {
     "duration": 0.017505,
     "end_time": "2022-06-14T03:56:39.327665",
     "exception": false,
     "start_time": "2022-06-14T03:56:39.310160",
     "status": "completed"
    },
    "tags": []
   },
   "source": [
    "## Clean the data \n",
    "\n",
    "\n",
    "Does the Data ROCC?\n",
    "\n",
    "R - This data is the usage of a fitbit device for 33 individuals for 31 days. \n",
    "\n",
    "O - The data come from a single source on Kaggle and is cited above.\n",
    "\n",
    "C - The comprehension is limited since the data is a small sample size for a short duration. This limits the scope of the analysis. \n",
    "\n",
    "C - Current the data is not current and should not be used to predict trends, but is useful for the the descriptive study of how individuals use the device. \n",
    "\n",
    "C - See citation above to access the original dataset. \n",
    "\n",
    "##### Data was intially cleaned using SQL. The tables Weight Log, Sleep Log, and Daily Activity were created from the original dataset found at https://www.kaggle.com/datasets/arashnic/fitbit"
   ]
  },
  {
   "cell_type": "markdown",
   "id": "51bf834c",
   "metadata": {
    "papermill": {
     "duration": 0.017301,
     "end_time": "2022-06-14T03:56:39.362595",
     "exception": false,
     "start_time": "2022-06-14T03:56:39.345294",
     "status": "completed"
    },
    "tags": []
   },
   "source": [
    "#### Creates a table for Sleep info and calculates Percent_Sleep column\n",
    "\n",
    "\n",
    "SELECT Cast(Id as String) as Id_str\n",
    "\n",
    ",Cast(SleepDay as Date) as Day\n",
    "\n",
    ",TotalMinutesAsleep\n",
    "\n",
    ",TotalTimeInBed\n",
    "\n",
    ",Round((TotalMinutesAsleep/TotalTimeInBed)*100, 2) As Percent_Sleep\n",
    "\n",
    "FROM `fitness-tracker-349421.Daily.dSleep`"
   ]
  },
  {
   "cell_type": "markdown",
   "id": "066111aa",
   "metadata": {
    "papermill": {
     "duration": 0.017475,
     "end_time": "2022-06-14T03:56:39.397813",
     "exception": false,
     "start_time": "2022-06-14T03:56:39.380338",
     "status": "completed"
    },
    "tags": []
   },
   "source": [
    "#### Extracts and cleans colum from 'weightLoginfo_merged' table \n",
    "I only pulled pounds since that is the common unit of weight in the US\n",
    "\n",
    "\n",
    "SELECT\n",
    "\n",
    "Cast (Id as String) as Id_str\n",
    "\n",
    ", Day\n",
    "\n",
    ", Round(WeightPounds, 2) as Lbs  \n",
    "\n",
    ", IsManualReport\n",
    "\n",
    "FROM `fitness-tracker-349421.Daily.WeightLog`"
   ]
  },
  {
   "cell_type": "markdown",
   "id": "a9e88c40",
   "metadata": {
    "papermill": {
     "duration": 0.017443,
     "end_time": "2022-06-14T03:56:39.432885",
     "exception": false,
     "start_time": "2022-06-14T03:56:39.415442",
     "status": "completed"
    },
    "tags": []
   },
   "source": [
    "#### Extracts and cleans colums from 'dailyActivity_merged' table  \n",
    "\n",
    "\n",
    "SELECT Cast(Id as string) AS ID_str\n",
    "\n",
    ",ActivityDate as Day\n",
    "\n",
    ",TotalSteps\n",
    "\n",
    ",Round(TotalDistance, 2) as D_total\n",
    "\n",
    ",Round(VeryActiveDistance, 2)as D_VeryActive\n",
    "\n",
    ",Round(ModeratelyActiveDistance, 2) as D_ModActive\n",
    "\n",
    ",Round(LightActiveDistance, 2) as D_LightActive\n",
    "\n",
    ",VeryActiveMinutes\n",
    "\n",
    ",FairlyActiveMinutes\n",
    "\n",
    ",LightlyActiveMinutes\n",
    "\n",
    ",SedentaryMinutes\n",
    "\n",
    ",Calories\n",
    "\n",
    "FROM `fitness-tracker-349421.Daily.dAct` as dAct_C"
   ]
  },
  {
   "cell_type": "markdown",
   "id": "a42cdb2d",
   "metadata": {
    "papermill": {
     "duration": 0.017341,
     "end_time": "2022-06-14T03:56:39.468093",
     "exception": false,
     "start_time": "2022-06-14T03:56:39.450752",
     "status": "completed"
    },
    "tags": []
   },
   "source": [
    "#### Creates a column to describe the amount of activity per day \n",
    "##### Recommended daily activity is 30 min/day or ~2% of your day\n",
    "\n",
    "WITH Percent_Act as\n",
    "\n",
    "(\n",
    "\n",
    "SELECT\n",
    "\n",
    "Id_str\n",
    "\n",
    ",Day\n",
    "\n",
    ",TotalSteps\n",
    "\n",
    ",D_total\n",
    "\n",
    ",(VeryActiveMinutes + FairlyActiveMinutes) as ActiveTime\n",
    "\n",
    ",Round((((VeryActiveMinutes + FairlyActiveMinutes)/1440)*100), 2) as PercentActive\n",
    "\n",
    "\n",
    "\n",
    "FROM `fitness-tracker-349421.Daily.dAct_C` \n",
    "\n",
    ")\n",
    "\n",
    "SELECT *\n",
    "\n",
    "FROM Percent_Act"
   ]
  },
  {
   "cell_type": "markdown",
   "id": "3692a106",
   "metadata": {
    "papermill": {
     "duration": 0.010598,
     "end_time": "2022-06-14T03:56:39.490142",
     "exception": false,
     "start_time": "2022-06-14T03:56:39.479544",
     "status": "completed"
    },
    "tags": []
   },
   "source": [
    "### Import the data to be analyzed"
   ]
  },
  {
   "cell_type": "code",
   "execution_count": 2,
   "id": "b43eab1f",
   "metadata": {
    "execution": {
     "iopub.execute_input": "2022-06-14T03:56:39.513827Z",
     "iopub.status.busy": "2022-06-14T03:56:39.513225Z",
     "iopub.status.idle": "2022-06-14T03:56:39.547551Z",
     "shell.execute_reply": "2022-06-14T03:56:39.546962Z"
    },
    "papermill": {
     "duration": 0.048488,
     "end_time": "2022-06-14T03:56:39.549547",
     "exception": false,
     "start_time": "2022-06-14T03:56:39.501059",
     "status": "completed"
    },
    "tags": []
   },
   "outputs": [
    {
     "name": "stdout",
     "output_type": "stream",
     "text": [
      "<class 'pandas.core.frame.DataFrame'>\n",
      "RangeIndex: 67 entries, 0 to 66\n",
      "Data columns (total 4 columns):\n",
      " #   Column          Non-Null Count  Dtype  \n",
      "---  ------          --------------  -----  \n",
      " 0   Id_str          67 non-null     int64  \n",
      " 1   Day             67 non-null     object \n",
      " 2   Lbs             65 non-null     float64\n",
      " 3   IsManualReport  67 non-null     object \n",
      "dtypes: float64(1), int64(1), object(2)\n",
      "memory usage: 2.2+ KB\n"
     ]
    }
   ],
   "source": [
    "# Import data to be analyzed: Weight Log information\n",
    "w=pd.read_csv('../input/UsedTables/Weight.csv')\n",
    "w.info()"
   ]
  },
  {
   "cell_type": "code",
   "execution_count": 3,
   "id": "e7d5d97b",
   "metadata": {
    "execution": {
     "iopub.execute_input": "2022-06-14T03:56:39.573474Z",
     "iopub.status.busy": "2022-06-14T03:56:39.573068Z",
     "iopub.status.idle": "2022-06-14T03:56:39.591317Z",
     "shell.execute_reply": "2022-06-14T03:56:39.590719Z"
    },
    "papermill": {
     "duration": 0.032842,
     "end_time": "2022-06-14T03:56:39.593556",
     "exception": false,
     "start_time": "2022-06-14T03:56:39.560714",
     "status": "completed"
    },
    "tags": []
   },
   "outputs": [
    {
     "name": "stdout",
     "output_type": "stream",
     "text": [
      "<class 'pandas.core.frame.DataFrame'>\n",
      "RangeIndex: 413 entries, 0 to 412\n",
      "Data columns (total 3 columns):\n",
      " #   Column         Non-Null Count  Dtype  \n",
      "---  ------         --------------  -----  \n",
      " 0   Id_str         413 non-null    int64  \n",
      " 1   Day            413 non-null    object \n",
      " 2   Percent_sleep  413 non-null    float64\n",
      "dtypes: float64(1), int64(1), object(1)\n",
      "memory usage: 9.8+ KB\n"
     ]
    }
   ],
   "source": [
    "# Import data to be analyzed: Quality of Sleep Log\n",
    "s=pd.read_csv('../input/UsedTables/Sleep.csv')\n",
    "s.info()"
   ]
  },
  {
   "cell_type": "code",
   "execution_count": 4,
   "id": "e8781b86",
   "metadata": {
    "execution": {
     "iopub.execute_input": "2022-06-14T03:56:39.633777Z",
     "iopub.status.busy": "2022-06-14T03:56:39.633221Z",
     "iopub.status.idle": "2022-06-14T03:56:39.654571Z",
     "shell.execute_reply": "2022-06-14T03:56:39.653865Z"
    },
    "papermill": {
     "duration": 0.044216,
     "end_time": "2022-06-14T03:56:39.656852",
     "exception": false,
     "start_time": "2022-06-14T03:56:39.612636",
     "status": "completed"
    },
    "tags": []
   },
   "outputs": [
    {
     "name": "stdout",
     "output_type": "stream",
     "text": [
      "<class 'pandas.core.frame.DataFrame'>\n",
      "RangeIndex: 940 entries, 0 to 939\n",
      "Data columns (total 6 columns):\n",
      " #   Column         Non-Null Count  Dtype  \n",
      "---  ------         --------------  -----  \n",
      " 0   Id_str         940 non-null    int64  \n",
      " 1   Day            940 non-null    object \n",
      " 2   TotalSteps     940 non-null    int64  \n",
      " 3   D_total        940 non-null    float64\n",
      " 4   ActiveTime     940 non-null    int64  \n",
      " 5   PercentActive  940 non-null    float64\n",
      "dtypes: float64(2), int64(3), object(1)\n",
      "memory usage: 44.2+ KB\n"
     ]
    }
   ],
   "source": [
    "# Import data to be analyzed: Daily Activity Log\n",
    "d=pd.read_csv('../input/UsedTables/PercentAct.csv')\n",
    "d.info()"
   ]
  },
  {
   "cell_type": "code",
   "execution_count": 5,
   "id": "96130a08",
   "metadata": {
    "execution": {
     "iopub.execute_input": "2022-06-14T03:56:39.696666Z",
     "iopub.status.busy": "2022-06-14T03:56:39.696228Z",
     "iopub.status.idle": "2022-06-14T03:56:39.702229Z",
     "shell.execute_reply": "2022-06-14T03:56:39.701646Z"
    },
    "papermill": {
     "duration": 0.027901,
     "end_time": "2022-06-14T03:56:39.704091",
     "exception": false,
     "start_time": "2022-06-14T03:56:39.676190",
     "status": "completed"
    },
    "tags": []
   },
   "outputs": [],
   "source": [
    "#change day from object to string\n",
    "d['Day'] = d['Day'].astype(str)\n",
    "s['Day'] = s['Day'].astype(str)\n",
    "w['Day'] = w['Day'].astype(str)\n"
   ]
  },
  {
   "cell_type": "code",
   "execution_count": 6,
   "id": "a5cbee4d",
   "metadata": {
    "execution": {
     "iopub.execute_input": "2022-06-14T03:56:39.742107Z",
     "iopub.status.busy": "2022-06-14T03:56:39.741438Z",
     "iopub.status.idle": "2022-06-14T03:56:39.747323Z",
     "shell.execute_reply": "2022-06-14T03:56:39.746771Z"
    },
    "papermill": {
     "duration": 0.026619,
     "end_time": "2022-06-14T03:56:39.749101",
     "exception": false,
     "start_time": "2022-06-14T03:56:39.722482",
     "status": "completed"
    },
    "tags": []
   },
   "outputs": [],
   "source": [
    "# change Id_str datatype to string\n",
    "d['Id_str'] = d['Id_str'].astype(str)\n",
    "s['Id_str'] = s['Id_str'].astype(str)\n",
    "w['Id_str'] = w['Id_str'].astype(str)"
   ]
  },
  {
   "cell_type": "code",
   "execution_count": 7,
   "id": "901981c7",
   "metadata": {
    "execution": {
     "iopub.execute_input": "2022-06-14T03:56:39.786938Z",
     "iopub.status.busy": "2022-06-14T03:56:39.785983Z",
     "iopub.status.idle": "2022-06-14T03:56:39.812496Z",
     "shell.execute_reply": "2022-06-14T03:56:39.811654Z"
    },
    "papermill": {
     "duration": 0.047642,
     "end_time": "2022-06-14T03:56:39.814633",
     "exception": false,
     "start_time": "2022-06-14T03:56:39.766991",
     "status": "completed"
    },
    "tags": []
   },
   "outputs": [
    {
     "name": "stdout",
     "output_type": "stream",
     "text": [
      "<class 'pandas.core.frame.DataFrame'>\n",
      "RangeIndex: 940 entries, 0 to 939\n",
      "Data columns (total 6 columns):\n",
      " #   Column         Non-Null Count  Dtype         \n",
      "---  ------         --------------  -----         \n",
      " 0   Id_str         940 non-null    object        \n",
      " 1   Day            940 non-null    datetime64[ns]\n",
      " 2   TotalSteps     940 non-null    int64         \n",
      " 3   D_total        940 non-null    float64       \n",
      " 4   ActiveTime     940 non-null    int64         \n",
      " 5   PercentActive  940 non-null    float64       \n",
      "dtypes: datetime64[ns](1), float64(2), int64(2), object(1)\n",
      "memory usage: 44.2+ KB\n",
      "<class 'pandas.core.frame.DataFrame'>\n",
      "RangeIndex: 67 entries, 0 to 66\n",
      "Data columns (total 4 columns):\n",
      " #   Column          Non-Null Count  Dtype         \n",
      "---  ------          --------------  -----         \n",
      " 0   Id_str          67 non-null     object        \n",
      " 1   Day             67 non-null     datetime64[ns]\n",
      " 2   Lbs             65 non-null     float64       \n",
      " 3   IsManualReport  67 non-null     object        \n",
      "dtypes: datetime64[ns](1), float64(1), object(2)\n",
      "memory usage: 2.2+ KB\n",
      "<class 'pandas.core.frame.DataFrame'>\n",
      "RangeIndex: 413 entries, 0 to 412\n",
      "Data columns (total 3 columns):\n",
      " #   Column         Non-Null Count  Dtype         \n",
      "---  ------         --------------  -----         \n",
      " 0   Id_str         413 non-null    object        \n",
      " 1   Day            413 non-null    datetime64[ns]\n",
      " 2   Percent_sleep  413 non-null    float64       \n",
      "dtypes: datetime64[ns](1), float64(1), object(1)\n",
      "memory usage: 9.8+ KB\n"
     ]
    }
   ],
   "source": [
    "#change Day data typ to date for all Logs\n",
    "d['Day'] =  pd.to_datetime(d['Day'], format='%Y-%m-%d')\n",
    "s['Day'] =  pd.to_datetime(s['Day'], format='%Y-%m-%d')\n",
    "w['Day'] =  pd.to_datetime(w['Day'], format='%Y-%m-%d')\n",
    "\n",
    "# Used to check success\n",
    "d.info()\n",
    "w.info()\n",
    "s.info()"
   ]
  },
  {
   "cell_type": "code",
   "execution_count": 8,
   "id": "bf60f6e2",
   "metadata": {
    "execution": {
     "iopub.execute_input": "2022-06-14T03:56:39.855000Z",
     "iopub.status.busy": "2022-06-14T03:56:39.854136Z",
     "iopub.status.idle": "2022-06-14T03:56:39.892494Z",
     "shell.execute_reply": "2022-06-14T03:56:39.891772Z"
    },
    "papermill": {
     "duration": 0.060813,
     "end_time": "2022-06-14T03:56:39.894536",
     "exception": false,
     "start_time": "2022-06-14T03:56:39.833723",
     "status": "completed"
    },
    "tags": []
   },
   "outputs": [
    {
     "data": {
      "text/html": [
       "<div>\n",
       "<style scoped>\n",
       "    .dataframe tbody tr th:only-of-type {\n",
       "        vertical-align: middle;\n",
       "    }\n",
       "\n",
       "    .dataframe tbody tr th {\n",
       "        vertical-align: top;\n",
       "    }\n",
       "\n",
       "    .dataframe thead th {\n",
       "        text-align: right;\n",
       "    }\n",
       "</style>\n",
       "<table border=\"1\" class=\"dataframe\">\n",
       "  <thead>\n",
       "    <tr style=\"text-align: right;\">\n",
       "      <th></th>\n",
       "      <th>count</th>\n",
       "      <th>unique</th>\n",
       "      <th>top</th>\n",
       "      <th>freq</th>\n",
       "      <th>mean</th>\n",
       "      <th>min</th>\n",
       "      <th>25%</th>\n",
       "      <th>50%</th>\n",
       "      <th>75%</th>\n",
       "      <th>max</th>\n",
       "      <th>std</th>\n",
       "    </tr>\n",
       "  </thead>\n",
       "  <tbody>\n",
       "    <tr>\n",
       "      <th>Id_str</th>\n",
       "      <td>940</td>\n",
       "      <td>33</td>\n",
       "      <td>1503960366</td>\n",
       "      <td>31</td>\n",
       "      <td>NaN</td>\n",
       "      <td>NaN</td>\n",
       "      <td>NaN</td>\n",
       "      <td>NaN</td>\n",
       "      <td>NaN</td>\n",
       "      <td>NaN</td>\n",
       "      <td>NaN</td>\n",
       "    </tr>\n",
       "    <tr>\n",
       "      <th>Day</th>\n",
       "      <td>940</td>\n",
       "      <td>NaN</td>\n",
       "      <td>NaN</td>\n",
       "      <td>NaN</td>\n",
       "      <td>2016-04-26 06:53:37.021276672</td>\n",
       "      <td>2016-04-12 00:00:00</td>\n",
       "      <td>2016-04-19 00:00:00</td>\n",
       "      <td>2016-04-26 00:00:00</td>\n",
       "      <td>2016-05-04 00:00:00</td>\n",
       "      <td>2016-05-12 00:00:00</td>\n",
       "      <td>NaN</td>\n",
       "    </tr>\n",
       "    <tr>\n",
       "      <th>TotalSteps</th>\n",
       "      <td>940.0</td>\n",
       "      <td>NaN</td>\n",
       "      <td>NaN</td>\n",
       "      <td>NaN</td>\n",
       "      <td>7637.910638</td>\n",
       "      <td>0.0</td>\n",
       "      <td>3789.75</td>\n",
       "      <td>7405.5</td>\n",
       "      <td>10727.0</td>\n",
       "      <td>36019.0</td>\n",
       "      <td>5087.150742</td>\n",
       "    </tr>\n",
       "    <tr>\n",
       "      <th>D_total</th>\n",
       "      <td>940.0</td>\n",
       "      <td>NaN</td>\n",
       "      <td>NaN</td>\n",
       "      <td>NaN</td>\n",
       "      <td>5.489702</td>\n",
       "      <td>0.0</td>\n",
       "      <td>2.62</td>\n",
       "      <td>5.245</td>\n",
       "      <td>7.7125</td>\n",
       "      <td>28.03</td>\n",
       "      <td>3.924606</td>\n",
       "    </tr>\n",
       "    <tr>\n",
       "      <th>ActiveTime</th>\n",
       "      <td>940.0</td>\n",
       "      <td>NaN</td>\n",
       "      <td>NaN</td>\n",
       "      <td>NaN</td>\n",
       "      <td>34.729787</td>\n",
       "      <td>0.0</td>\n",
       "      <td>0.0</td>\n",
       "      <td>21.0</td>\n",
       "      <td>57.0</td>\n",
       "      <td>275.0</td>\n",
       "      <td>43.456579</td>\n",
       "    </tr>\n",
       "    <tr>\n",
       "      <th>PercentActive</th>\n",
       "      <td>940.0</td>\n",
       "      <td>NaN</td>\n",
       "      <td>NaN</td>\n",
       "      <td>NaN</td>\n",
       "      <td>2.412096</td>\n",
       "      <td>0.0</td>\n",
       "      <td>0.0</td>\n",
       "      <td>1.46</td>\n",
       "      <td>3.96</td>\n",
       "      <td>19.1</td>\n",
       "      <td>3.017987</td>\n",
       "    </tr>\n",
       "  </tbody>\n",
       "</table>\n",
       "</div>"
      ],
      "text/plain": [
       "               count unique         top freq                           mean  \\\n",
       "Id_str           940     33  1503960366   31                            NaN   \n",
       "Day              940    NaN         NaN  NaN  2016-04-26 06:53:37.021276672   \n",
       "TotalSteps     940.0    NaN         NaN  NaN                    7637.910638   \n",
       "D_total        940.0    NaN         NaN  NaN                       5.489702   \n",
       "ActiveTime     940.0    NaN         NaN  NaN                      34.729787   \n",
       "PercentActive  940.0    NaN         NaN  NaN                       2.412096   \n",
       "\n",
       "                               min                  25%                  50%  \\\n",
       "Id_str                         NaN                  NaN                  NaN   \n",
       "Day            2016-04-12 00:00:00  2016-04-19 00:00:00  2016-04-26 00:00:00   \n",
       "TotalSteps                     0.0              3789.75               7405.5   \n",
       "D_total                        0.0                 2.62                5.245   \n",
       "ActiveTime                     0.0                  0.0                 21.0   \n",
       "PercentActive                  0.0                  0.0                 1.46   \n",
       "\n",
       "                               75%                  max          std  \n",
       "Id_str                         NaN                  NaN          NaN  \n",
       "Day            2016-05-04 00:00:00  2016-05-12 00:00:00          NaN  \n",
       "TotalSteps                 10727.0              36019.0  5087.150742  \n",
       "D_total                     7.7125                28.03     3.924606  \n",
       "ActiveTime                    57.0                275.0    43.456579  \n",
       "PercentActive                 3.96                 19.1     3.017987  "
      ]
     },
     "execution_count": 8,
     "metadata": {},
     "output_type": "execute_result"
    }
   ],
   "source": [
    "# Describe each of the values and spread for numeric values in each table. \n",
    "d.describe(include='all', datetime_is_numeric=True).T"
   ]
  },
  {
   "cell_type": "code",
   "execution_count": 9,
   "id": "84c1fb3b",
   "metadata": {
    "execution": {
     "iopub.execute_input": "2022-06-14T03:56:39.933301Z",
     "iopub.status.busy": "2022-06-14T03:56:39.932672Z",
     "iopub.status.idle": "2022-06-14T03:56:39.955960Z",
     "shell.execute_reply": "2022-06-14T03:56:39.955325Z"
    },
    "papermill": {
     "duration": 0.044644,
     "end_time": "2022-06-14T03:56:39.957808",
     "exception": false,
     "start_time": "2022-06-14T03:56:39.913164",
     "status": "completed"
    },
    "tags": []
   },
   "outputs": [
    {
     "data": {
      "text/html": [
       "<div>\n",
       "<style scoped>\n",
       "    .dataframe tbody tr th:only-of-type {\n",
       "        vertical-align: middle;\n",
       "    }\n",
       "\n",
       "    .dataframe tbody tr th {\n",
       "        vertical-align: top;\n",
       "    }\n",
       "\n",
       "    .dataframe thead th {\n",
       "        text-align: right;\n",
       "    }\n",
       "</style>\n",
       "<table border=\"1\" class=\"dataframe\">\n",
       "  <thead>\n",
       "    <tr style=\"text-align: right;\">\n",
       "      <th></th>\n",
       "      <th>count</th>\n",
       "      <th>unique</th>\n",
       "      <th>top</th>\n",
       "      <th>freq</th>\n",
       "      <th>mean</th>\n",
       "      <th>min</th>\n",
       "      <th>25%</th>\n",
       "      <th>50%</th>\n",
       "      <th>75%</th>\n",
       "      <th>max</th>\n",
       "      <th>std</th>\n",
       "    </tr>\n",
       "  </thead>\n",
       "  <tbody>\n",
       "    <tr>\n",
       "      <th>Id_str</th>\n",
       "      <td>413</td>\n",
       "      <td>24</td>\n",
       "      <td>8378563200</td>\n",
       "      <td>32</td>\n",
       "      <td>NaN</td>\n",
       "      <td>NaN</td>\n",
       "      <td>NaN</td>\n",
       "      <td>NaN</td>\n",
       "      <td>NaN</td>\n",
       "      <td>NaN</td>\n",
       "      <td>NaN</td>\n",
       "    </tr>\n",
       "    <tr>\n",
       "      <th>Day</th>\n",
       "      <td>413</td>\n",
       "      <td>NaN</td>\n",
       "      <td>NaN</td>\n",
       "      <td>NaN</td>\n",
       "      <td>2016-04-26 12:40:05.811137792</td>\n",
       "      <td>2016-04-12 00:00:00</td>\n",
       "      <td>2016-04-19 00:00:00</td>\n",
       "      <td>2016-04-27 00:00:00</td>\n",
       "      <td>2016-05-04 00:00:00</td>\n",
       "      <td>2016-05-12 00:00:00</td>\n",
       "      <td>NaN</td>\n",
       "    </tr>\n",
       "    <tr>\n",
       "      <th>Percent_sleep</th>\n",
       "      <td>413.0</td>\n",
       "      <td>NaN</td>\n",
       "      <td>NaN</td>\n",
       "      <td>NaN</td>\n",
       "      <td>91.677022</td>\n",
       "      <td>49.84</td>\n",
       "      <td>91.22</td>\n",
       "      <td>94.31</td>\n",
       "      <td>96.07</td>\n",
       "      <td>100.0</td>\n",
       "      <td>8.704009</td>\n",
       "    </tr>\n",
       "  </tbody>\n",
       "</table>\n",
       "</div>"
      ],
      "text/plain": [
       "               count unique         top freq                           mean  \\\n",
       "Id_str           413     24  8378563200   32                            NaN   \n",
       "Day              413    NaN         NaN  NaN  2016-04-26 12:40:05.811137792   \n",
       "Percent_sleep  413.0    NaN         NaN  NaN                      91.677022   \n",
       "\n",
       "                               min                  25%                  50%  \\\n",
       "Id_str                         NaN                  NaN                  NaN   \n",
       "Day            2016-04-12 00:00:00  2016-04-19 00:00:00  2016-04-27 00:00:00   \n",
       "Percent_sleep                49.84                91.22                94.31   \n",
       "\n",
       "                               75%                  max       std  \n",
       "Id_str                         NaN                  NaN       NaN  \n",
       "Day            2016-05-04 00:00:00  2016-05-12 00:00:00       NaN  \n",
       "Percent_sleep                96.07                100.0  8.704009  "
      ]
     },
     "execution_count": 9,
     "metadata": {},
     "output_type": "execute_result"
    }
   ],
   "source": [
    "s.describe(include='all', datetime_is_numeric=True ).T"
   ]
  },
  {
   "cell_type": "code",
   "execution_count": 10,
   "id": "a0e76104",
   "metadata": {
    "execution": {
     "iopub.execute_input": "2022-06-14T03:56:39.997809Z",
     "iopub.status.busy": "2022-06-14T03:56:39.997227Z",
     "iopub.status.idle": "2022-06-14T03:56:40.024644Z",
     "shell.execute_reply": "2022-06-14T03:56:40.023360Z"
    },
    "papermill": {
     "duration": 0.049523,
     "end_time": "2022-06-14T03:56:40.026754",
     "exception": false,
     "start_time": "2022-06-14T03:56:39.977231",
     "status": "completed"
    },
    "tags": []
   },
   "outputs": [
    {
     "data": {
      "text/html": [
       "<div>\n",
       "<style scoped>\n",
       "    .dataframe tbody tr th:only-of-type {\n",
       "        vertical-align: middle;\n",
       "    }\n",
       "\n",
       "    .dataframe tbody tr th {\n",
       "        vertical-align: top;\n",
       "    }\n",
       "\n",
       "    .dataframe thead th {\n",
       "        text-align: right;\n",
       "    }\n",
       "</style>\n",
       "<table border=\"1\" class=\"dataframe\">\n",
       "  <thead>\n",
       "    <tr style=\"text-align: right;\">\n",
       "      <th></th>\n",
       "      <th>count</th>\n",
       "      <th>unique</th>\n",
       "      <th>top</th>\n",
       "      <th>freq</th>\n",
       "      <th>mean</th>\n",
       "      <th>min</th>\n",
       "      <th>25%</th>\n",
       "      <th>50%</th>\n",
       "      <th>75%</th>\n",
       "      <th>max</th>\n",
       "      <th>std</th>\n",
       "    </tr>\n",
       "  </thead>\n",
       "  <tbody>\n",
       "    <tr>\n",
       "      <th>Id_str</th>\n",
       "      <td>67</td>\n",
       "      <td>8</td>\n",
       "      <td>6962181067</td>\n",
       "      <td>30</td>\n",
       "      <td>NaN</td>\n",
       "      <td>NaN</td>\n",
       "      <td>NaN</td>\n",
       "      <td>NaN</td>\n",
       "      <td>NaN</td>\n",
       "      <td>NaN</td>\n",
       "      <td>NaN</td>\n",
       "    </tr>\n",
       "    <tr>\n",
       "      <th>Day</th>\n",
       "      <td>67</td>\n",
       "      <td>NaN</td>\n",
       "      <td>NaN</td>\n",
       "      <td>NaN</td>\n",
       "      <td>2016-04-26 22:12:32.238806016</td>\n",
       "      <td>2016-04-12 00:00:00</td>\n",
       "      <td>2016-04-19 00:00:00</td>\n",
       "      <td>2016-04-27 00:00:00</td>\n",
       "      <td>2016-05-04 00:00:00</td>\n",
       "      <td>2016-05-12 00:00:00</td>\n",
       "      <td>NaN</td>\n",
       "    </tr>\n",
       "    <tr>\n",
       "      <th>Lbs</th>\n",
       "      <td>65.0</td>\n",
       "      <td>NaN</td>\n",
       "      <td>NaN</td>\n",
       "      <td>NaN</td>\n",
       "      <td>157.069077</td>\n",
       "      <td>22.0</td>\n",
       "      <td>135.36</td>\n",
       "      <td>137.79</td>\n",
       "      <td>187.39</td>\n",
       "      <td>294.32</td>\n",
       "      <td>34.618232</td>\n",
       "    </tr>\n",
       "    <tr>\n",
       "      <th>IsManualReport</th>\n",
       "      <td>67</td>\n",
       "      <td>5</td>\n",
       "      <td>True</td>\n",
       "      <td>39</td>\n",
       "      <td>NaN</td>\n",
       "      <td>NaN</td>\n",
       "      <td>NaN</td>\n",
       "      <td>NaN</td>\n",
       "      <td>NaN</td>\n",
       "      <td>NaN</td>\n",
       "      <td>NaN</td>\n",
       "    </tr>\n",
       "  </tbody>\n",
       "</table>\n",
       "</div>"
      ],
      "text/plain": [
       "               count unique         top freq                           mean  \\\n",
       "Id_str            67      8  6962181067   30                            NaN   \n",
       "Day               67    NaN         NaN  NaN  2016-04-26 22:12:32.238806016   \n",
       "Lbs             65.0    NaN         NaN  NaN                     157.069077   \n",
       "IsManualReport    67      5        True   39                            NaN   \n",
       "\n",
       "                                min                  25%                  50%  \\\n",
       "Id_str                          NaN                  NaN                  NaN   \n",
       "Day             2016-04-12 00:00:00  2016-04-19 00:00:00  2016-04-27 00:00:00   \n",
       "Lbs                            22.0               135.36               137.79   \n",
       "IsManualReport                  NaN                  NaN                  NaN   \n",
       "\n",
       "                                75%                  max        std  \n",
       "Id_str                          NaN                  NaN        NaN  \n",
       "Day             2016-05-04 00:00:00  2016-05-12 00:00:00        NaN  \n",
       "Lbs                          187.39               294.32  34.618232  \n",
       "IsManualReport                  NaN                  NaN        NaN  "
      ]
     },
     "execution_count": 10,
     "metadata": {},
     "output_type": "execute_result"
    }
   ],
   "source": [
    "w.describe(include='all', datetime_is_numeric=True).T"
   ]
  },
  {
   "cell_type": "code",
   "execution_count": 11,
   "id": "923389ab",
   "metadata": {
    "execution": {
     "iopub.execute_input": "2022-06-14T03:56:40.052655Z",
     "iopub.status.busy": "2022-06-14T03:56:40.051991Z",
     "iopub.status.idle": "2022-06-14T03:56:40.079538Z",
     "shell.execute_reply": "2022-06-14T03:56:40.078676Z"
    },
    "papermill": {
     "duration": 0.042439,
     "end_time": "2022-06-14T03:56:40.081336",
     "exception": false,
     "start_time": "2022-06-14T03:56:40.038897",
     "status": "completed"
    },
    "tags": []
   },
   "outputs": [
    {
     "data": {
      "text/html": [
       "<div>\n",
       "<style scoped>\n",
       "    .dataframe tbody tr th:only-of-type {\n",
       "        vertical-align: middle;\n",
       "    }\n",
       "\n",
       "    .dataframe tbody tr th {\n",
       "        vertical-align: top;\n",
       "    }\n",
       "\n",
       "    .dataframe thead th {\n",
       "        text-align: right;\n",
       "    }\n",
       "</style>\n",
       "<table border=\"1\" class=\"dataframe\">\n",
       "  <thead>\n",
       "    <tr style=\"text-align: right;\">\n",
       "      <th></th>\n",
       "      <th>Id_str</th>\n",
       "      <th>Day</th>\n",
       "      <th>TotalSteps</th>\n",
       "      <th>D_total</th>\n",
       "      <th>ActiveTime</th>\n",
       "      <th>PercentActive</th>\n",
       "      <th>Percent_sleep</th>\n",
       "    </tr>\n",
       "  </thead>\n",
       "  <tbody>\n",
       "    <tr>\n",
       "      <th>0</th>\n",
       "      <td>1503960366</td>\n",
       "      <td>2016-04-24</td>\n",
       "      <td>10039</td>\n",
       "      <td>6.41</td>\n",
       "      <td>44</td>\n",
       "      <td>3.06</td>\n",
       "      <td>95.77</td>\n",
       "    </tr>\n",
       "    <tr>\n",
       "      <th>1</th>\n",
       "      <td>1503960366</td>\n",
       "      <td>2016-05-06</td>\n",
       "      <td>12159</td>\n",
       "      <td>8.03</td>\n",
       "      <td>30</td>\n",
       "      <td>2.08</td>\n",
       "      <td>91.01</td>\n",
       "    </tr>\n",
       "    <tr>\n",
       "      <th>2</th>\n",
       "      <td>1503960366</td>\n",
       "      <td>2016-04-21</td>\n",
       "      <td>9819</td>\n",
       "      <td>6.34</td>\n",
       "      <td>27</td>\n",
       "      <td>1.88</td>\n",
       "      <td>89.29</td>\n",
       "    </tr>\n",
       "    <tr>\n",
       "      <th>3</th>\n",
       "      <td>1503960366</td>\n",
       "      <td>2016-05-08</td>\n",
       "      <td>10060</td>\n",
       "      <td>6.58</td>\n",
       "      <td>52</td>\n",
       "      <td>3.61</td>\n",
       "      <td>97.22</td>\n",
       "    </tr>\n",
       "    <tr>\n",
       "      <th>4</th>\n",
       "      <td>1503960366</td>\n",
       "      <td>2016-04-16</td>\n",
       "      <td>12669</td>\n",
       "      <td>8.16</td>\n",
       "      <td>46</td>\n",
       "      <td>3.19</td>\n",
       "      <td>92.64</td>\n",
       "    </tr>\n",
       "  </tbody>\n",
       "</table>\n",
       "</div>"
      ],
      "text/plain": [
       "       Id_str        Day  TotalSteps  D_total  ActiveTime  PercentActive  \\\n",
       "0  1503960366 2016-04-24       10039     6.41          44           3.06   \n",
       "1  1503960366 2016-05-06       12159     8.03          30           2.08   \n",
       "2  1503960366 2016-04-21        9819     6.34          27           1.88   \n",
       "3  1503960366 2016-05-08       10060     6.58          52           3.61   \n",
       "4  1503960366 2016-04-16       12669     8.16          46           3.19   \n",
       "\n",
       "   Percent_sleep  \n",
       "0          95.77  \n",
       "1          91.01  \n",
       "2          89.29  \n",
       "3          97.22  \n",
       "4          92.64  "
      ]
     },
     "execution_count": 11,
     "metadata": {},
     "output_type": "execute_result"
    }
   ],
   "source": [
    "# Make a table that has all daily activity and sleep information available for those that use the sleep log function\n",
    "ta = pd.merge(d, s, on=['Id_str', 'Day'] )\n",
    "ta.head()"
   ]
  },
  {
   "cell_type": "code",
   "execution_count": 12,
   "id": "b9001420",
   "metadata": {
    "execution": {
     "iopub.execute_input": "2022-06-14T03:56:40.106219Z",
     "iopub.status.busy": "2022-06-14T03:56:40.105933Z",
     "iopub.status.idle": "2022-06-14T03:56:40.118072Z",
     "shell.execute_reply": "2022-06-14T03:56:40.117050Z"
    },
    "papermill": {
     "duration": 0.027292,
     "end_time": "2022-06-14T03:56:40.120396",
     "exception": false,
     "start_time": "2022-06-14T03:56:40.093104",
     "status": "completed"
    },
    "tags": []
   },
   "outputs": [
    {
     "name": "stdout",
     "output_type": "stream",
     "text": [
      "<class 'pandas.core.frame.DataFrame'>\n",
      "Int64Index: 413 entries, 0 to 412\n",
      "Data columns (total 7 columns):\n",
      " #   Column         Non-Null Count  Dtype         \n",
      "---  ------         --------------  -----         \n",
      " 0   Id_str         413 non-null    object        \n",
      " 1   Day            413 non-null    datetime64[ns]\n",
      " 2   TotalSteps     413 non-null    int64         \n",
      " 3   D_total        413 non-null    float64       \n",
      " 4   ActiveTime     413 non-null    int64         \n",
      " 5   PercentActive  413 non-null    float64       \n",
      " 6   Percent_sleep  413 non-null    float64       \n",
      "dtypes: datetime64[ns](1), float64(3), int64(2), object(1)\n",
      "memory usage: 25.8+ KB\n"
     ]
    }
   ],
   "source": [
    "ta.info()"
   ]
  },
  {
   "cell_type": "code",
   "execution_count": 13,
   "id": "64ec2d78",
   "metadata": {
    "execution": {
     "iopub.execute_input": "2022-06-14T03:56:40.161513Z",
     "iopub.status.busy": "2022-06-14T03:56:40.161152Z",
     "iopub.status.idle": "2022-06-14T03:56:40.178746Z",
     "shell.execute_reply": "2022-06-14T03:56:40.177686Z"
    },
    "papermill": {
     "duration": 0.040053,
     "end_time": "2022-06-14T03:56:40.180319",
     "exception": false,
     "start_time": "2022-06-14T03:56:40.140266",
     "status": "completed"
    },
    "tags": []
   },
   "outputs": [
    {
     "data": {
      "text/html": [
       "<div>\n",
       "<style scoped>\n",
       "    .dataframe tbody tr th:only-of-type {\n",
       "        vertical-align: middle;\n",
       "    }\n",
       "\n",
       "    .dataframe tbody tr th {\n",
       "        vertical-align: top;\n",
       "    }\n",
       "\n",
       "    .dataframe thead th {\n",
       "        text-align: right;\n",
       "    }\n",
       "</style>\n",
       "<table border=\"1\" class=\"dataframe\">\n",
       "  <thead>\n",
       "    <tr style=\"text-align: right;\">\n",
       "      <th></th>\n",
       "      <th>Id_str</th>\n",
       "      <th>Day</th>\n",
       "      <th>TotalSteps</th>\n",
       "      <th>D_total</th>\n",
       "      <th>ActiveTime</th>\n",
       "      <th>PercentActive</th>\n",
       "      <th>Lbs</th>\n",
       "      <th>IsManualReport</th>\n",
       "    </tr>\n",
       "  </thead>\n",
       "  <tbody>\n",
       "    <tr>\n",
       "      <th>0</th>\n",
       "      <td>1503960366</td>\n",
       "      <td>2016-05-02</td>\n",
       "      <td>14727</td>\n",
       "      <td>9.71</td>\n",
       "      <td>56</td>\n",
       "      <td>3.89</td>\n",
       "      <td>22.00</td>\n",
       "      <td>1462233599000</td>\n",
       "    </tr>\n",
       "    <tr>\n",
       "      <th>1</th>\n",
       "      <td>1503960366</td>\n",
       "      <td>2016-05-03</td>\n",
       "      <td>15103</td>\n",
       "      <td>9.66</td>\n",
       "      <td>74</td>\n",
       "      <td>5.14</td>\n",
       "      <td>115.96</td>\n",
       "      <td>True</td>\n",
       "    </tr>\n",
       "    <tr>\n",
       "      <th>2</th>\n",
       "      <td>1927972279</td>\n",
       "      <td>2016-04-13</td>\n",
       "      <td>356</td>\n",
       "      <td>0.25</td>\n",
       "      <td>0</td>\n",
       "      <td>0.00</td>\n",
       "      <td>294.32</td>\n",
       "      <td>False</td>\n",
       "    </tr>\n",
       "    <tr>\n",
       "      <th>3</th>\n",
       "      <td>2873212765</td>\n",
       "      <td>2016-05-12</td>\n",
       "      <td>7566</td>\n",
       "      <td>5.11</td>\n",
       "      <td>0</td>\n",
       "      <td>0.00</td>\n",
       "      <td>126.32</td>\n",
       "      <td>True</td>\n",
       "    </tr>\n",
       "    <tr>\n",
       "      <th>4</th>\n",
       "      <td>2873212765</td>\n",
       "      <td>2016-04-21</td>\n",
       "      <td>8859</td>\n",
       "      <td>5.98</td>\n",
       "      <td>12</td>\n",
       "      <td>0.83</td>\n",
       "      <td>125.00</td>\n",
       "      <td>True</td>\n",
       "    </tr>\n",
       "  </tbody>\n",
       "</table>\n",
       "</div>"
      ],
      "text/plain": [
       "       Id_str        Day  TotalSteps  D_total  ActiveTime  PercentActive  \\\n",
       "0  1503960366 2016-05-02       14727     9.71          56           3.89   \n",
       "1  1503960366 2016-05-03       15103     9.66          74           5.14   \n",
       "2  1927972279 2016-04-13         356     0.25           0           0.00   \n",
       "3  2873212765 2016-05-12        7566     5.11           0           0.00   \n",
       "4  2873212765 2016-04-21        8859     5.98          12           0.83   \n",
       "\n",
       "      Lbs IsManualReport  \n",
       "0   22.00  1462233599000  \n",
       "1  115.96           True  \n",
       "2  294.32          False  \n",
       "3  126.32           True  \n",
       "4  125.00           True  "
      ]
     },
     "execution_count": 13,
     "metadata": {},
     "output_type": "execute_result"
    }
   ],
   "source": [
    "#Makes a table that has all daily activity and weight information for those that use the weight tracker. \n",
    "wa = pd.merge(d, w, on=['Id_str', 'Day'] )\n",
    "wa.head()"
   ]
  },
  {
   "cell_type": "markdown",
   "id": "1349e415",
   "metadata": {
    "papermill": {
     "duration": 0.011918,
     "end_time": "2022-06-14T03:56:40.204400",
     "exception": false,
     "start_time": "2022-06-14T03:56:40.192482",
     "status": "completed"
    },
    "tags": []
   },
   "source": [
    "## Visualize the Data"
   ]
  },
  {
   "cell_type": "code",
   "execution_count": 14,
   "id": "c03f1ad1",
   "metadata": {
    "execution": {
     "iopub.execute_input": "2022-06-14T03:56:40.231233Z",
     "iopub.status.busy": "2022-06-14T03:56:40.230248Z",
     "iopub.status.idle": "2022-06-14T03:56:40.237035Z",
     "shell.execute_reply": "2022-06-14T03:56:40.236382Z"
    },
    "papermill": {
     "duration": 0.021992,
     "end_time": "2022-06-14T03:56:40.238617",
     "exception": false,
     "start_time": "2022-06-14T03:56:40.216625",
     "status": "completed"
    },
    "tags": []
   },
   "outputs": [
    {
     "data": {
      "text/plain": [
       "33"
      ]
     },
     "execution_count": 14,
     "metadata": {},
     "output_type": "execute_result"
    }
   ],
   "source": [
    "# Count the unique users in the dataframe 'PercentAct'\n",
    "d['Id_str'].nunique()"
   ]
  },
  {
   "cell_type": "code",
   "execution_count": 15,
   "id": "aa0a3000",
   "metadata": {
    "execution": {
     "iopub.execute_input": "2022-06-14T03:56:40.265794Z",
     "iopub.status.busy": "2022-06-14T03:56:40.265182Z",
     "iopub.status.idle": "2022-06-14T03:56:40.270952Z",
     "shell.execute_reply": "2022-06-14T03:56:40.270297Z"
    },
    "papermill": {
     "duration": 0.021503,
     "end_time": "2022-06-14T03:56:40.272469",
     "exception": false,
     "start_time": "2022-06-14T03:56:40.250966",
     "status": "completed"
    },
    "tags": []
   },
   "outputs": [
    {
     "data": {
      "text/plain": [
       "31"
      ]
     },
     "execution_count": 15,
     "metadata": {},
     "output_type": "execute_result"
    }
   ],
   "source": [
    "# Count the days included in the dataframe 'PercentAct'\n",
    "d['Day'].nunique()"
   ]
  },
  {
   "cell_type": "markdown",
   "id": "c52e2222",
   "metadata": {
    "papermill": {
     "duration": 0.01204,
     "end_time": "2022-06-14T03:56:40.296991",
     "exception": false,
     "start_time": "2022-06-14T03:56:40.284951",
     "status": "completed"
    },
    "tags": []
   },
   "source": [
    "#### The data has 33 unique users that tracked data for 31 days or an entire month."
   ]
  },
  {
   "cell_type": "code",
   "execution_count": 16,
   "id": "9814aff9",
   "metadata": {
    "execution": {
     "iopub.execute_input": "2022-06-14T03:56:40.323145Z",
     "iopub.status.busy": "2022-06-14T03:56:40.322574Z",
     "iopub.status.idle": "2022-06-14T03:56:40.338159Z",
     "shell.execute_reply": "2022-06-14T03:56:40.337438Z"
    },
    "papermill": {
     "duration": 0.03084,
     "end_time": "2022-06-14T03:56:40.340065",
     "exception": false,
     "start_time": "2022-06-14T03:56:40.309225",
     "status": "completed"
    },
    "tags": []
   },
   "outputs": [
    {
     "data": {
      "text/html": [
       "<div>\n",
       "<style scoped>\n",
       "    .dataframe tbody tr th:only-of-type {\n",
       "        vertical-align: middle;\n",
       "    }\n",
       "\n",
       "    .dataframe tbody tr th {\n",
       "        vertical-align: top;\n",
       "    }\n",
       "\n",
       "    .dataframe thead th {\n",
       "        text-align: right;\n",
       "    }\n",
       "</style>\n",
       "<table border=\"1\" class=\"dataframe\">\n",
       "  <thead>\n",
       "    <tr style=\"text-align: right;\">\n",
       "      <th></th>\n",
       "      <th>Id_str</th>\n",
       "      <th>Day</th>\n",
       "      <th>TotalSteps</th>\n",
       "      <th>D_total</th>\n",
       "      <th>ActiveTime</th>\n",
       "      <th>PercentActive</th>\n",
       "    </tr>\n",
       "  </thead>\n",
       "  <tbody>\n",
       "    <tr>\n",
       "      <th>0</th>\n",
       "      <td>1503960366</td>\n",
       "      <td>2016-05-12</td>\n",
       "      <td>0</td>\n",
       "      <td>0.0</td>\n",
       "      <td>0</td>\n",
       "      <td>0.0</td>\n",
       "    </tr>\n",
       "    <tr>\n",
       "      <th>93</th>\n",
       "      <td>1844505072</td>\n",
       "      <td>2016-05-02</td>\n",
       "      <td>0</td>\n",
       "      <td>0.0</td>\n",
       "      <td>0</td>\n",
       "      <td>0.0</td>\n",
       "    </tr>\n",
       "    <tr>\n",
       "      <th>96</th>\n",
       "      <td>1844505072</td>\n",
       "      <td>2016-05-12</td>\n",
       "      <td>0</td>\n",
       "      <td>0.0</td>\n",
       "      <td>0</td>\n",
       "      <td>0.0</td>\n",
       "    </tr>\n",
       "    <tr>\n",
       "      <th>97</th>\n",
       "      <td>1844505072</td>\n",
       "      <td>2016-04-25</td>\n",
       "      <td>0</td>\n",
       "      <td>0.0</td>\n",
       "      <td>0</td>\n",
       "      <td>0.0</td>\n",
       "    </tr>\n",
       "    <tr>\n",
       "      <th>104</th>\n",
       "      <td>1844505072</td>\n",
       "      <td>2016-05-11</td>\n",
       "      <td>0</td>\n",
       "      <td>0.0</td>\n",
       "      <td>0</td>\n",
       "      <td>0.0</td>\n",
       "    </tr>\n",
       "  </tbody>\n",
       "</table>\n",
       "</div>"
      ],
      "text/plain": [
       "         Id_str        Day  TotalSteps  D_total  ActiveTime  PercentActive\n",
       "0    1503960366 2016-05-12           0      0.0           0            0.0\n",
       "93   1844505072 2016-05-02           0      0.0           0            0.0\n",
       "96   1844505072 2016-05-12           0      0.0           0            0.0\n",
       "97   1844505072 2016-04-25           0      0.0           0            0.0\n",
       "104  1844505072 2016-05-11           0      0.0           0            0.0"
      ]
     },
     "execution_count": 16,
     "metadata": {},
     "output_type": "execute_result"
    }
   ],
   "source": [
    "no_act=d[d['TotalSteps']==0] #creates a table for the entire month to count inactive days for users\n",
    "no_act.head()"
   ]
  },
  {
   "cell_type": "code",
   "execution_count": 17,
   "id": "b4af343c",
   "metadata": {
    "execution": {
     "iopub.execute_input": "2022-06-14T03:56:40.366602Z",
     "iopub.status.busy": "2022-06-14T03:56:40.365695Z",
     "iopub.status.idle": "2022-06-14T03:56:40.374173Z",
     "shell.execute_reply": "2022-06-14T03:56:40.373524Z"
    },
    "papermill": {
     "duration": 0.023062,
     "end_time": "2022-06-14T03:56:40.375652",
     "exception": false,
     "start_time": "2022-06-14T03:56:40.352590",
     "status": "completed"
    },
    "tags": []
   },
   "outputs": [
    {
     "data": {
      "text/plain": [
       "Id_str\n",
       "1503960366     1\n",
       "1844505072    10\n",
       "1927972279    14\n",
       "4020332650    14\n",
       "4057192912     1\n",
       "4702921684     1\n",
       "5577150313     2\n",
       "6117666160     5\n",
       "6290855005     5\n",
       "6775888955     9\n",
       "7007744171     2\n",
       "7086361926     1\n",
       "8253242879     1\n",
       "8583815059     1\n",
       "8792009665    10\n",
       "Name: TotalSteps, dtype: int64"
      ]
     },
     "execution_count": 17,
     "metadata": {},
     "output_type": "execute_result"
    }
   ],
   "source": [
    "no_act = no_act.groupby(['Id_str'], as_index = True)['TotalSteps'].size()\n",
    "# Groups inactive days by user and counts how many days of inactivity. \n",
    "no_act"
   ]
  },
  {
   "cell_type": "code",
   "execution_count": 18,
   "id": "b9bfde76",
   "metadata": {
    "execution": {
     "iopub.execute_input": "2022-06-14T03:56:40.402251Z",
     "iopub.status.busy": "2022-06-14T03:56:40.401654Z",
     "iopub.status.idle": "2022-06-14T03:56:40.407315Z",
     "shell.execute_reply": "2022-06-14T03:56:40.406651Z"
    },
    "papermill": {
     "duration": 0.020702,
     "end_time": "2022-06-14T03:56:40.408784",
     "exception": false,
     "start_time": "2022-06-14T03:56:40.388082",
     "status": "completed"
    },
    "tags": []
   },
   "outputs": [
    {
     "data": {
      "text/plain": [
       "15"
      ]
     },
     "execution_count": 18,
     "metadata": {},
     "output_type": "execute_result"
    }
   ],
   "source": [
    "no_act.shape[0] # counts the total number of users who had at least one day of inactivity over the month. "
   ]
  },
  {
   "cell_type": "markdown",
   "id": "cc173571",
   "metadata": {
    "papermill": {
     "duration": 0.012213,
     "end_time": "2022-06-14T03:56:40.433571",
     "exception": false,
     "start_time": "2022-06-14T03:56:40.421358",
     "status": "completed"
    },
    "tags": []
   },
   "source": [
    "#### Less than half the users have at least one day without the recommended daily activity, and 5 users have more than 9 days where they didn't track any activity.  "
   ]
  },
  {
   "cell_type": "code",
   "execution_count": 19,
   "id": "e0711ae9",
   "metadata": {
    "execution": {
     "iopub.execute_input": "2022-06-14T03:56:40.460825Z",
     "iopub.status.busy": "2022-06-14T03:56:40.460205Z",
     "iopub.status.idle": "2022-06-14T03:56:40.771812Z",
     "shell.execute_reply": "2022-06-14T03:56:40.770871Z"
    },
    "papermill": {
     "duration": 0.327725,
     "end_time": "2022-06-14T03:56:40.773721",
     "exception": false,
     "start_time": "2022-06-14T03:56:40.445996",
     "status": "completed"
    },
    "tags": []
   },
   "outputs": [
    {
     "data": {
      "image/png": "[encoded data removed]",
      "text/plain": [
       "<Figure size 1800x864 with 2 Axes>"
      ]
     },
     "metadata": {
      "needs_background": "light"
     },
     "output_type": "display_data"
    }
   ],
   "source": [
    "# Plot the heatmap \n",
    "col_list = ['TotalSteps', 'ActiveTime', 'Percent_sleep']\n",
    "plt.figure(figsize=(25, 12))\n",
    "sns.heatmap(ta[col_list].corr(), annot=True, vmin=-1, vmax=1, fmt=\".2f\", cmap=\"Spectral\")\n",
    "plt.show()"
   ]
  },
  {
   "cell_type": "markdown",
   "id": "c28aba97",
   "metadata": {
    "papermill": {
     "duration": 0.013806,
     "end_time": "2022-06-14T03:56:40.800676",
     "exception": false,
     "start_time": "2022-06-14T03:56:40.786870",
     "status": "completed"
    },
    "tags": []
   },
   "source": [
    "#### Total steps and Active time seem to be the only numeric valuse that have a positive correlation. This makes sense since we expect you time active go up the farther or more steps you take. "
   ]
  },
  {
   "cell_type": "code",
   "execution_count": 20,
   "id": "03c35300",
   "metadata": {
    "execution": {
     "iopub.execute_input": "2022-06-14T03:56:40.828837Z",
     "iopub.status.busy": "2022-06-14T03:56:40.828456Z",
     "iopub.status.idle": "2022-06-14T03:56:40.845146Z",
     "shell.execute_reply": "2022-06-14T03:56:40.844481Z"
    },
    "papermill": {
     "duration": 0.032995,
     "end_time": "2022-06-14T03:56:40.847204",
     "exception": false,
     "start_time": "2022-06-14T03:56:40.814209",
     "status": "completed"
    },
    "tags": []
   },
   "outputs": [
    {
     "data": {
      "text/html": [
       "<div>\n",
       "<style scoped>\n",
       "    .dataframe tbody tr th:only-of-type {\n",
       "        vertical-align: middle;\n",
       "    }\n",
       "\n",
       "    .dataframe tbody tr th {\n",
       "        vertical-align: top;\n",
       "    }\n",
       "\n",
       "    .dataframe thead th {\n",
       "        text-align: right;\n",
       "    }\n",
       "</style>\n",
       "<table border=\"1\" class=\"dataframe\">\n",
       "  <thead>\n",
       "    <tr style=\"text-align: right;\">\n",
       "      <th></th>\n",
       "      <th>Id_str</th>\n",
       "      <th>Day</th>\n",
       "      <th>TotalSteps</th>\n",
       "      <th>D_total</th>\n",
       "      <th>ActiveTime</th>\n",
       "      <th>PercentActive</th>\n",
       "    </tr>\n",
       "  </thead>\n",
       "  <tbody>\n",
       "    <tr>\n",
       "      <th>0</th>\n",
       "      <td>1503960366</td>\n",
       "      <td>2016-05-12</td>\n",
       "      <td>0</td>\n",
       "      <td>0.00</td>\n",
       "      <td>0</td>\n",
       "      <td>0.00</td>\n",
       "    </tr>\n",
       "    <tr>\n",
       "      <th>2</th>\n",
       "      <td>1503960366</td>\n",
       "      <td>2016-05-06</td>\n",
       "      <td>12159</td>\n",
       "      <td>8.03</td>\n",
       "      <td>30</td>\n",
       "      <td>2.08</td>\n",
       "    </tr>\n",
       "    <tr>\n",
       "      <th>4</th>\n",
       "      <td>1503960366</td>\n",
       "      <td>2016-05-08</td>\n",
       "      <td>10060</td>\n",
       "      <td>6.58</td>\n",
       "      <td>52</td>\n",
       "      <td>3.61</td>\n",
       "    </tr>\n",
       "    <tr>\n",
       "      <th>6</th>\n",
       "      <td>1503960366</td>\n",
       "      <td>2016-05-09</td>\n",
       "      <td>12022</td>\n",
       "      <td>7.72</td>\n",
       "      <td>57</td>\n",
       "      <td>3.96</td>\n",
       "    </tr>\n",
       "    <tr>\n",
       "      <th>13</th>\n",
       "      <td>1503960366</td>\n",
       "      <td>2016-05-02</td>\n",
       "      <td>14727</td>\n",
       "      <td>9.71</td>\n",
       "      <td>56</td>\n",
       "      <td>3.89</td>\n",
       "    </tr>\n",
       "  </tbody>\n",
       "</table>\n",
       "</div>"
      ],
      "text/plain": [
       "        Id_str        Day  TotalSteps  D_total  ActiveTime  PercentActive\n",
       "0   1503960366 2016-05-12           0     0.00           0           0.00\n",
       "2   1503960366 2016-05-06       12159     8.03          30           2.08\n",
       "4   1503960366 2016-05-08       10060     6.58          52           3.61\n",
       "6   1503960366 2016-05-09       12022     7.72          57           3.96\n",
       "13  1503960366 2016-05-02       14727     9.71          56           3.89"
      ]
     },
     "execution_count": 20,
     "metadata": {},
     "output_type": "execute_result"
    }
   ],
   "source": [
    "# Create a dataframes that will help compare beginning of the month and end of month to evaluate good habits. \n",
    "\n",
    "begin_month = d[d['Day']< '2016-05-01']\n",
    "end_month = d[d['Day']>= '2016-05-01']\n",
    "\n",
    "\n",
    "end_month.head()"
   ]
  },
  {
   "cell_type": "code",
   "execution_count": 21,
   "id": "9f572d36",
   "metadata": {
    "execution": {
     "iopub.execute_input": "2022-06-14T03:56:40.893419Z",
     "iopub.status.busy": "2022-06-14T03:56:40.892074Z",
     "iopub.status.idle": "2022-06-14T03:56:40.906065Z",
     "shell.execute_reply": "2022-06-14T03:56:40.905320Z"
    },
    "papermill": {
     "duration": 0.038943,
     "end_time": "2022-06-14T03:56:40.908023",
     "exception": false,
     "start_time": "2022-06-14T03:56:40.869080",
     "status": "completed"
    },
    "tags": []
   },
   "outputs": [
    {
     "data": {
      "text/html": [
       "<div>\n",
       "<style scoped>\n",
       "    .dataframe tbody tr th:only-of-type {\n",
       "        vertical-align: middle;\n",
       "    }\n",
       "\n",
       "    .dataframe tbody tr th {\n",
       "        vertical-align: top;\n",
       "    }\n",
       "\n",
       "    .dataframe thead th {\n",
       "        text-align: right;\n",
       "    }\n",
       "</style>\n",
       "<table border=\"1\" class=\"dataframe\">\n",
       "  <thead>\n",
       "    <tr style=\"text-align: right;\">\n",
       "      <th></th>\n",
       "      <th>Id_str</th>\n",
       "      <th>Day</th>\n",
       "      <th>TotalSteps</th>\n",
       "      <th>D_total</th>\n",
       "      <th>ActiveTime</th>\n",
       "      <th>PercentActive</th>\n",
       "    </tr>\n",
       "  </thead>\n",
       "  <tbody>\n",
       "    <tr>\n",
       "      <th>1</th>\n",
       "      <td>1503960366</td>\n",
       "      <td>2016-04-24</td>\n",
       "      <td>10039</td>\n",
       "      <td>6.41</td>\n",
       "      <td>44</td>\n",
       "      <td>3.06</td>\n",
       "    </tr>\n",
       "    <tr>\n",
       "      <th>3</th>\n",
       "      <td>1503960366</td>\n",
       "      <td>2016-04-21</td>\n",
       "      <td>9819</td>\n",
       "      <td>6.34</td>\n",
       "      <td>27</td>\n",
       "      <td>1.88</td>\n",
       "    </tr>\n",
       "    <tr>\n",
       "      <th>5</th>\n",
       "      <td>1503960366</td>\n",
       "      <td>2016-04-16</td>\n",
       "      <td>12669</td>\n",
       "      <td>8.16</td>\n",
       "      <td>46</td>\n",
       "      <td>3.19</td>\n",
       "    </tr>\n",
       "    <tr>\n",
       "      <th>7</th>\n",
       "      <td>1503960366</td>\n",
       "      <td>2016-04-27</td>\n",
       "      <td>18134</td>\n",
       "      <td>12.21</td>\n",
       "      <td>89</td>\n",
       "      <td>6.18</td>\n",
       "    </tr>\n",
       "    <tr>\n",
       "      <th>8</th>\n",
       "      <td>1503960366</td>\n",
       "      <td>2016-04-14</td>\n",
       "      <td>10460</td>\n",
       "      <td>6.74</td>\n",
       "      <td>41</td>\n",
       "      <td>2.85</td>\n",
       "    </tr>\n",
       "  </tbody>\n",
       "</table>\n",
       "</div>"
      ],
      "text/plain": [
       "       Id_str        Day  TotalSteps  D_total  ActiveTime  PercentActive\n",
       "1  1503960366 2016-04-24       10039     6.41          44           3.06\n",
       "3  1503960366 2016-04-21        9819     6.34          27           1.88\n",
       "5  1503960366 2016-04-16       12669     8.16          46           3.19\n",
       "7  1503960366 2016-04-27       18134    12.21          89           6.18\n",
       "8  1503960366 2016-04-14       10460     6.74          41           2.85"
      ]
     },
     "execution_count": 21,
     "metadata": {},
     "output_type": "execute_result"
    }
   ],
   "source": [
    "begin_month.head()"
   ]
  },
  {
   "cell_type": "code",
   "execution_count": 22,
   "id": "aeada886",
   "metadata": {
    "execution": {
     "iopub.execute_input": "2022-06-14T03:56:40.952745Z",
     "iopub.status.busy": "2022-06-14T03:56:40.952329Z",
     "iopub.status.idle": "2022-06-14T03:56:41.753250Z",
     "shell.execute_reply": "2022-06-14T03:56:41.752488Z"
    },
    "papermill": {
     "duration": 0.826039,
     "end_time": "2022-06-14T03:56:41.755847",
     "exception": false,
     "start_time": "2022-06-14T03:56:40.929808",
     "status": "completed"
    },
    "tags": []
   },
   "outputs": [
    {
     "data": {
      "image/png": "[encoded data removed]",
      "text/plain": [
       "<Figure size 1800x936 with 1 Axes>"
      ]
     },
     "metadata": {
      "needs_background": "light"
     },
     "output_type": "display_data"
    }
   ],
   "source": [
    "plt.figure(figsize=(25, 13))\n",
    "a=sns.boxplot(x='Id_str', y = 'PercentActive', data=d, palette='bright')\n",
    "plt.xticks(rotation = 45)\n",
    "a.set_title(\"Percent Activity Spread for each user ID.\", fontsize=30)\n",
    "plt.show() ##plots the ID vs Percent Activity "
   ]
  },
  {
   "cell_type": "code",
   "execution_count": 23,
   "id": "04124f0b",
   "metadata": {
    "execution": {
     "iopub.execute_input": "2022-06-14T03:56:41.802956Z",
     "iopub.status.busy": "2022-06-14T03:56:41.802509Z",
     "iopub.status.idle": "2022-06-14T03:56:41.813269Z",
     "shell.execute_reply": "2022-06-14T03:56:41.812468Z"
    },
    "papermill": {
     "duration": 0.036368,
     "end_time": "2022-06-14T03:56:41.815086",
     "exception": false,
     "start_time": "2022-06-14T03:56:41.778718",
     "status": "completed"
    },
    "tags": []
   },
   "outputs": [
    {
     "data": {
      "text/html": [
       "<div>\n",
       "<style scoped>\n",
       "    .dataframe tbody tr th:only-of-type {\n",
       "        vertical-align: middle;\n",
       "    }\n",
       "\n",
       "    .dataframe tbody tr th {\n",
       "        vertical-align: top;\n",
       "    }\n",
       "\n",
       "    .dataframe thead th {\n",
       "        text-align: right;\n",
       "    }\n",
       "</style>\n",
       "<table border=\"1\" class=\"dataframe\">\n",
       "  <thead>\n",
       "    <tr style=\"text-align: right;\">\n",
       "      <th></th>\n",
       "      <th>Id_str</th>\n",
       "      <th>ActiveTime</th>\n",
       "    </tr>\n",
       "  </thead>\n",
       "  <tbody>\n",
       "    <tr>\n",
       "      <th>0</th>\n",
       "      <td>1503960366</td>\n",
       "      <td>17</td>\n",
       "    </tr>\n",
       "    <tr>\n",
       "      <th>1</th>\n",
       "      <td>1624580081</td>\n",
       "      <td>4</td>\n",
       "    </tr>\n",
       "    <tr>\n",
       "      <th>2</th>\n",
       "      <td>1644430081</td>\n",
       "      <td>10</td>\n",
       "    </tr>\n",
       "    <tr>\n",
       "      <th>3</th>\n",
       "      <td>2022484408</td>\n",
       "      <td>17</td>\n",
       "    </tr>\n",
       "    <tr>\n",
       "      <th>4</th>\n",
       "      <td>2347167796</td>\n",
       "      <td>9</td>\n",
       "    </tr>\n",
       "  </tbody>\n",
       "</table>\n",
       "</div>"
      ],
      "text/plain": [
       "       Id_str  ActiveTime\n",
       "0  1503960366          17\n",
       "1  1624580081           4\n",
       "2  1644430081          10\n",
       "3  2022484408          17\n",
       "4  2347167796           9"
      ]
     },
     "execution_count": 23,
     "metadata": {},
     "output_type": "execute_result"
    }
   ],
   "source": [
    "b_count = begin_month[begin_month['ActiveTime']>30]\n",
    "\n",
    "b_count = b_count.groupby(['Id_str'], as_index = False)['ActiveTime'].count()\n",
    "\n",
    "b_count.head()\n",
    "# Creates a table with count of days with more than 30 min of activity for the beginning of the month"
   ]
  },
  {
   "cell_type": "code",
   "execution_count": 24,
   "id": "5d29b0de",
   "metadata": {
    "execution": {
     "iopub.execute_input": "2022-06-14T03:56:41.862482Z",
     "iopub.status.busy": "2022-06-14T03:56:41.862085Z",
     "iopub.status.idle": "2022-06-14T03:56:41.868161Z",
     "shell.execute_reply": "2022-06-14T03:56:41.867317Z"
    },
    "papermill": {
     "duration": 0.032164,
     "end_time": "2022-06-14T03:56:41.870034",
     "exception": false,
     "start_time": "2022-06-14T03:56:41.837870",
     "status": "completed"
    },
    "tags": []
   },
   "outputs": [
    {
     "data": {
      "text/plain": [
       "28"
      ]
     },
     "execution_count": 24,
     "metadata": {},
     "output_type": "execute_result"
    }
   ],
   "source": [
    "b_count.shape[0] #counts users with more than 30 min activity per day in the beginning of the month"
   ]
  },
  {
   "cell_type": "code",
   "execution_count": 25,
   "id": "1f9344e2",
   "metadata": {
    "execution": {
     "iopub.execute_input": "2022-06-14T03:56:41.917454Z",
     "iopub.status.busy": "2022-06-14T03:56:41.917046Z",
     "iopub.status.idle": "2022-06-14T03:56:41.932575Z",
     "shell.execute_reply": "2022-06-14T03:56:41.931732Z"
    },
    "papermill": {
     "duration": 0.041874,
     "end_time": "2022-06-14T03:56:41.935045",
     "exception": false,
     "start_time": "2022-06-14T03:56:41.893171",
     "status": "completed"
    },
    "tags": []
   },
   "outputs": [
    {
     "data": {
      "text/html": [
       "<div>\n",
       "<style scoped>\n",
       "    .dataframe tbody tr th:only-of-type {\n",
       "        vertical-align: middle;\n",
       "    }\n",
       "\n",
       "    .dataframe tbody tr th {\n",
       "        vertical-align: top;\n",
       "    }\n",
       "\n",
       "    .dataframe thead th {\n",
       "        text-align: right;\n",
       "    }\n",
       "</style>\n",
       "<table border=\"1\" class=\"dataframe\">\n",
       "  <thead>\n",
       "    <tr style=\"text-align: right;\">\n",
       "      <th></th>\n",
       "      <th>Id_str</th>\n",
       "      <th>ActiveTime</th>\n",
       "    </tr>\n",
       "  </thead>\n",
       "  <tbody>\n",
       "    <tr>\n",
       "      <th>0</th>\n",
       "      <td>1503960366</td>\n",
       "      <td>10</td>\n",
       "    </tr>\n",
       "    <tr>\n",
       "      <th>1</th>\n",
       "      <td>1624580081</td>\n",
       "      <td>1</td>\n",
       "    </tr>\n",
       "    <tr>\n",
       "      <th>2</th>\n",
       "      <td>1644430081</td>\n",
       "      <td>4</td>\n",
       "    </tr>\n",
       "    <tr>\n",
       "      <th>3</th>\n",
       "      <td>2022484408</td>\n",
       "      <td>10</td>\n",
       "    </tr>\n",
       "    <tr>\n",
       "      <th>4</th>\n",
       "      <td>2873212765</td>\n",
       "      <td>3</td>\n",
       "    </tr>\n",
       "  </tbody>\n",
       "</table>\n",
       "</div>"
      ],
      "text/plain": [
       "       Id_str  ActiveTime\n",
       "0  1503960366          10\n",
       "1  1624580081           1\n",
       "2  1644430081           4\n",
       "3  2022484408          10\n",
       "4  2873212765           3"
      ]
     },
     "execution_count": 25,
     "metadata": {},
     "output_type": "execute_result"
    }
   ],
   "source": [
    "e_count = end_month[end_month['ActiveTime']>30]\n",
    "\n",
    "e_count = e_count.groupby(['Id_str'], as_index = False)['ActiveTime'].count()\n",
    "\n",
    "e_count.head()\n",
    "# Creates a table with count of days with more than 30 min of activity for the end of the month"
   ]
  },
  {
   "cell_type": "code",
   "execution_count": 26,
   "id": "d810e80d",
   "metadata": {
    "execution": {
     "iopub.execute_input": "2022-06-14T03:56:41.983927Z",
     "iopub.status.busy": "2022-06-14T03:56:41.983525Z",
     "iopub.status.idle": "2022-06-14T03:56:41.989590Z",
     "shell.execute_reply": "2022-06-14T03:56:41.988750Z"
    },
    "papermill": {
     "duration": 0.033564,
     "end_time": "2022-06-14T03:56:41.992170",
     "exception": false,
     "start_time": "2022-06-14T03:56:41.958606",
     "status": "completed"
    },
    "tags": []
   },
   "outputs": [
    {
     "data": {
      "text/plain": [
       "23"
      ]
     },
     "execution_count": 26,
     "metadata": {},
     "output_type": "execute_result"
    }
   ],
   "source": [
    "e_count.shape[0]  #counts users with more than 30 min activity per day in the beginning of the month"
   ]
  },
  {
   "cell_type": "markdown",
   "id": "f5902fac",
   "metadata": {
    "papermill": {
     "duration": 0.023155,
     "end_time": "2022-06-14T03:56:42.038929",
     "exception": false,
     "start_time": "2022-06-14T03:56:42.015774",
     "status": "completed"
    },
    "tags": []
   },
   "source": [
    "We had less users get the minumum suggested amount of activity at the end of the month than at the beginning. This could be due to loss of motivation.¶"
   ]
  },
  {
   "cell_type": "code",
   "execution_count": 27,
   "id": "b63d0e4e",
   "metadata": {
    "execution": {
     "iopub.execute_input": "2022-06-14T03:56:42.088180Z",
     "iopub.status.busy": "2022-06-14T03:56:42.087747Z",
     "iopub.status.idle": "2022-06-14T03:56:42.108613Z",
     "shell.execute_reply": "2022-06-14T03:56:42.107965Z"
    },
    "papermill": {
     "duration": 0.047933,
     "end_time": "2022-06-14T03:56:42.110484",
     "exception": false,
     "start_time": "2022-06-14T03:56:42.062551",
     "status": "completed"
    },
    "tags": []
   },
   "outputs": [
    {
     "data": {
      "text/html": [
       "<div>\n",
       "<style scoped>\n",
       "    .dataframe tbody tr th:only-of-type {\n",
       "        vertical-align: middle;\n",
       "    }\n",
       "\n",
       "    .dataframe tbody tr th {\n",
       "        vertical-align: top;\n",
       "    }\n",
       "\n",
       "    .dataframe thead th {\n",
       "        text-align: right;\n",
       "    }\n",
       "</style>\n",
       "<table border=\"1\" class=\"dataframe\">\n",
       "  <thead>\n",
       "    <tr style=\"text-align: right;\">\n",
       "      <th></th>\n",
       "      <th>Id_str</th>\n",
       "      <th>TotalSteps</th>\n",
       "      <th>D_total</th>\n",
       "      <th>ActiveTime</th>\n",
       "      <th>PercentActive</th>\n",
       "    </tr>\n",
       "  </thead>\n",
       "  <tbody>\n",
       "    <tr>\n",
       "      <th>0</th>\n",
       "      <td>1503960366</td>\n",
       "      <td>12207.0</td>\n",
       "      <td>8.030</td>\n",
       "      <td>58.0</td>\n",
       "      <td>4.030</td>\n",
       "    </tr>\n",
       "    <tr>\n",
       "      <th>1</th>\n",
       "      <td>1624580081</td>\n",
       "      <td>4026.0</td>\n",
       "      <td>2.620</td>\n",
       "      <td>0.0</td>\n",
       "      <td>0.000</td>\n",
       "    </tr>\n",
       "    <tr>\n",
       "      <th>2</th>\n",
       "      <td>1644430081</td>\n",
       "      <td>6683.5</td>\n",
       "      <td>4.860</td>\n",
       "      <td>22.5</td>\n",
       "      <td>1.565</td>\n",
       "    </tr>\n",
       "    <tr>\n",
       "      <th>3</th>\n",
       "      <td>1844505072</td>\n",
       "      <td>2237.0</td>\n",
       "      <td>1.480</td>\n",
       "      <td>0.0</td>\n",
       "      <td>0.000</td>\n",
       "    </tr>\n",
       "    <tr>\n",
       "      <th>4</th>\n",
       "      <td>1927972279</td>\n",
       "      <td>152.0</td>\n",
       "      <td>0.110</td>\n",
       "      <td>0.0</td>\n",
       "      <td>0.000</td>\n",
       "    </tr>\n",
       "    <tr>\n",
       "      <th>5</th>\n",
       "      <td>2022484408</td>\n",
       "      <td>11548.0</td>\n",
       "      <td>8.290</td>\n",
       "      <td>52.0</td>\n",
       "      <td>3.610</td>\n",
       "    </tr>\n",
       "    <tr>\n",
       "      <th>6</th>\n",
       "      <td>2026352035</td>\n",
       "      <td>5528.0</td>\n",
       "      <td>3.450</td>\n",
       "      <td>0.0</td>\n",
       "      <td>0.000</td>\n",
       "    </tr>\n",
       "    <tr>\n",
       "      <th>7</th>\n",
       "      <td>2320127002</td>\n",
       "      <td>5057.0</td>\n",
       "      <td>3.410</td>\n",
       "      <td>0.0</td>\n",
       "      <td>0.000</td>\n",
       "    </tr>\n",
       "    <tr>\n",
       "      <th>8</th>\n",
       "      <td>2347167796</td>\n",
       "      <td>9781.0</td>\n",
       "      <td>6.540</td>\n",
       "      <td>31.0</td>\n",
       "      <td>2.155</td>\n",
       "    </tr>\n",
       "    <tr>\n",
       "      <th>9</th>\n",
       "      <td>2873212765</td>\n",
       "      <td>7762.0</td>\n",
       "      <td>5.240</td>\n",
       "      <td>8.0</td>\n",
       "      <td>0.560</td>\n",
       "    </tr>\n",
       "    <tr>\n",
       "      <th>10</th>\n",
       "      <td>3372868164</td>\n",
       "      <td>7150.5</td>\n",
       "      <td>4.900</td>\n",
       "      <td>15.5</td>\n",
       "      <td>1.075</td>\n",
       "    </tr>\n",
       "    <tr>\n",
       "      <th>11</th>\n",
       "      <td>3977333714</td>\n",
       "      <td>11604.0</td>\n",
       "      <td>7.815</td>\n",
       "      <td>86.0</td>\n",
       "      <td>5.970</td>\n",
       "    </tr>\n",
       "    <tr>\n",
       "      <th>12</th>\n",
       "      <td>4020332650</td>\n",
       "      <td>62.0</td>\n",
       "      <td>0.040</td>\n",
       "      <td>0.0</td>\n",
       "      <td>0.000</td>\n",
       "    </tr>\n",
       "    <tr>\n",
       "      <th>13</th>\n",
       "      <td>4057192912</td>\n",
       "      <td>4689.0</td>\n",
       "      <td>3.490</td>\n",
       "      <td>0.0</td>\n",
       "      <td>0.000</td>\n",
       "    </tr>\n",
       "    <tr>\n",
       "      <th>14</th>\n",
       "      <td>4319703577</td>\n",
       "      <td>8221.0</td>\n",
       "      <td>5.520</td>\n",
       "      <td>15.0</td>\n",
       "      <td>1.040</td>\n",
       "    </tr>\n",
       "    <tr>\n",
       "      <th>15</th>\n",
       "      <td>4388161847</td>\n",
       "      <td>10243.0</td>\n",
       "      <td>7.890</td>\n",
       "      <td>36.0</td>\n",
       "      <td>2.500</td>\n",
       "    </tr>\n",
       "    <tr>\n",
       "      <th>16</th>\n",
       "      <td>4445114986</td>\n",
       "      <td>4514.0</td>\n",
       "      <td>3.030</td>\n",
       "      <td>0.0</td>\n",
       "      <td>0.000</td>\n",
       "    </tr>\n",
       "    <tr>\n",
       "      <th>17</th>\n",
       "      <td>4558609924</td>\n",
       "      <td>7833.0</td>\n",
       "      <td>5.180</td>\n",
       "      <td>26.0</td>\n",
       "      <td>1.810</td>\n",
       "    </tr>\n",
       "    <tr>\n",
       "      <th>18</th>\n",
       "      <td>4702921684</td>\n",
       "      <td>8614.0</td>\n",
       "      <td>6.990</td>\n",
       "      <td>21.0</td>\n",
       "      <td>1.460</td>\n",
       "    </tr>\n",
       "    <tr>\n",
       "      <th>19</th>\n",
       "      <td>5553957443</td>\n",
       "      <td>9769.0</td>\n",
       "      <td>6.380</td>\n",
       "      <td>32.0</td>\n",
       "      <td>2.220</td>\n",
       "    </tr>\n",
       "    <tr>\n",
       "      <th>20</th>\n",
       "      <td>5577150313</td>\n",
       "      <td>8232.5</td>\n",
       "      <td>6.150</td>\n",
       "      <td>102.5</td>\n",
       "      <td>7.115</td>\n",
       "    </tr>\n",
       "    <tr>\n",
       "      <th>21</th>\n",
       "      <td>6117666160</td>\n",
       "      <td>7332.0</td>\n",
       "      <td>5.535</td>\n",
       "      <td>0.0</td>\n",
       "      <td>0.000</td>\n",
       "    </tr>\n",
       "    <tr>\n",
       "      <th>22</th>\n",
       "      <td>6290855005</td>\n",
       "      <td>6277.0</td>\n",
       "      <td>4.750</td>\n",
       "      <td>0.0</td>\n",
       "      <td>0.000</td>\n",
       "    </tr>\n",
       "    <tr>\n",
       "      <th>23</th>\n",
       "      <td>6775888955</td>\n",
       "      <td>1624.5</td>\n",
       "      <td>1.165</td>\n",
       "      <td>9.5</td>\n",
       "      <td>0.660</td>\n",
       "    </tr>\n",
       "    <tr>\n",
       "      <th>24</th>\n",
       "      <td>6962181067</td>\n",
       "      <td>10433.0</td>\n",
       "      <td>6.900</td>\n",
       "      <td>46.0</td>\n",
       "      <td>3.190</td>\n",
       "    </tr>\n",
       "    <tr>\n",
       "      <th>25</th>\n",
       "      <td>7007744171</td>\n",
       "      <td>13291.0</td>\n",
       "      <td>9.420</td>\n",
       "      <td>59.0</td>\n",
       "      <td>4.100</td>\n",
       "    </tr>\n",
       "    <tr>\n",
       "      <th>26</th>\n",
       "      <td>7086361926</td>\n",
       "      <td>10091.0</td>\n",
       "      <td>6.810</td>\n",
       "      <td>62.0</td>\n",
       "      <td>4.310</td>\n",
       "    </tr>\n",
       "    <tr>\n",
       "      <th>27</th>\n",
       "      <td>8053475328</td>\n",
       "      <td>15108.0</td>\n",
       "      <td>11.900</td>\n",
       "      <td>102.0</td>\n",
       "      <td>7.080</td>\n",
       "    </tr>\n",
       "    <tr>\n",
       "      <th>28</th>\n",
       "      <td>8253242879</td>\n",
       "      <td>6466.0</td>\n",
       "      <td>4.270</td>\n",
       "      <td>42.0</td>\n",
       "      <td>2.920</td>\n",
       "    </tr>\n",
       "    <tr>\n",
       "      <th>29</th>\n",
       "      <td>8378563200</td>\n",
       "      <td>8382.0</td>\n",
       "      <td>6.650</td>\n",
       "      <td>80.0</td>\n",
       "      <td>5.560</td>\n",
       "    </tr>\n",
       "    <tr>\n",
       "      <th>30</th>\n",
       "      <td>8583815059</td>\n",
       "      <td>6174.0</td>\n",
       "      <td>4.820</td>\n",
       "      <td>25.0</td>\n",
       "      <td>1.740</td>\n",
       "    </tr>\n",
       "    <tr>\n",
       "      <th>31</th>\n",
       "      <td>8792009665</td>\n",
       "      <td>1320.0</td>\n",
       "      <td>0.840</td>\n",
       "      <td>0.0</td>\n",
       "      <td>0.000</td>\n",
       "    </tr>\n",
       "    <tr>\n",
       "      <th>32</th>\n",
       "      <td>8877689391</td>\n",
       "      <td>15118.0</td>\n",
       "      <td>10.670</td>\n",
       "      <td>82.0</td>\n",
       "      <td>5.690</td>\n",
       "    </tr>\n",
       "  </tbody>\n",
       "</table>\n",
       "</div>"
      ],
      "text/plain": [
       "        Id_str  TotalSteps  D_total  ActiveTime  PercentActive\n",
       "0   1503960366     12207.0    8.030        58.0          4.030\n",
       "1   1624580081      4026.0    2.620         0.0          0.000\n",
       "2   1644430081      6683.5    4.860        22.5          1.565\n",
       "3   1844505072      2237.0    1.480         0.0          0.000\n",
       "4   1927972279       152.0    0.110         0.0          0.000\n",
       "5   2022484408     11548.0    8.290        52.0          3.610\n",
       "6   2026352035      5528.0    3.450         0.0          0.000\n",
       "7   2320127002      5057.0    3.410         0.0          0.000\n",
       "8   2347167796      9781.0    6.540        31.0          2.155\n",
       "9   2873212765      7762.0    5.240         8.0          0.560\n",
       "10  3372868164      7150.5    4.900        15.5          1.075\n",
       "11  3977333714     11604.0    7.815        86.0          5.970\n",
       "12  4020332650        62.0    0.040         0.0          0.000\n",
       "13  4057192912      4689.0    3.490         0.0          0.000\n",
       "14  4319703577      8221.0    5.520        15.0          1.040\n",
       "15  4388161847     10243.0    7.890        36.0          2.500\n",
       "16  4445114986      4514.0    3.030         0.0          0.000\n",
       "17  4558609924      7833.0    5.180        26.0          1.810\n",
       "18  4702921684      8614.0    6.990        21.0          1.460\n",
       "19  5553957443      9769.0    6.380        32.0          2.220\n",
       "20  5577150313      8232.5    6.150       102.5          7.115\n",
       "21  6117666160      7332.0    5.535         0.0          0.000\n",
       "22  6290855005      6277.0    4.750         0.0          0.000\n",
       "23  6775888955      1624.5    1.165         9.5          0.660\n",
       "24  6962181067     10433.0    6.900        46.0          3.190\n",
       "25  7007744171     13291.0    9.420        59.0          4.100\n",
       "26  7086361926     10091.0    6.810        62.0          4.310\n",
       "27  8053475328     15108.0   11.900       102.0          7.080\n",
       "28  8253242879      6466.0    4.270        42.0          2.920\n",
       "29  8378563200      8382.0    6.650        80.0          5.560\n",
       "30  8583815059      6174.0    4.820        25.0          1.740\n",
       "31  8792009665      1320.0    0.840         0.0          0.000\n",
       "32  8877689391     15118.0   10.670        82.0          5.690"
      ]
     },
     "execution_count": 27,
     "metadata": {},
     "output_type": "execute_result"
    }
   ],
   "source": [
    "step_count = d.groupby('Id_str').agg('median').reset_index()\n",
    "step_count"
   ]
  },
  {
   "cell_type": "code",
   "execution_count": 28,
   "id": "b93cbda1",
   "metadata": {
    "execution": {
     "iopub.execute_input": "2022-06-14T03:56:42.160421Z",
     "iopub.status.busy": "2022-06-14T03:56:42.159648Z",
     "iopub.status.idle": "2022-06-14T03:56:42.744485Z",
     "shell.execute_reply": "2022-06-14T03:56:42.743459Z"
    },
    "papermill": {
     "duration": 0.611553,
     "end_time": "2022-06-14T03:56:42.746143",
     "exception": false,
     "start_time": "2022-06-14T03:56:42.134590",
     "status": "completed"
    },
    "tags": []
   },
   "outputs": [
    {
     "data": {
      "image/png": "[encoded data removed]",
      "text/plain": [
       "<Figure size 1800x936 with 1 Axes>"
      ]
     },
     "metadata": {
      "needs_background": "light"
     },
     "output_type": "display_data"
    }
   ],
   "source": [
    "plt.figure(figsize=(25, 13))\n",
    "d=sns.boxplot(x='Id_str', y = 'TotalSteps', data=d, palette='bright')\n",
    "plt.xticks(rotation = 45)\n",
    "d.set_title(\"Total Steps spread for each user.\", fontsize=30)\n",
    "plt.show()"
   ]
  },
  {
   "cell_type": "code",
   "execution_count": 29,
   "id": "eebf9406",
   "metadata": {
    "execution": {
     "iopub.execute_input": "2022-06-14T03:56:42.778995Z",
     "iopub.status.busy": "2022-06-14T03:56:42.778440Z",
     "iopub.status.idle": "2022-06-14T03:56:42.796020Z",
     "shell.execute_reply": "2022-06-14T03:56:42.794947Z"
    },
    "papermill": {
     "duration": 0.036228,
     "end_time": "2022-06-14T03:56:42.798047",
     "exception": false,
     "start_time": "2022-06-14T03:56:42.761819",
     "status": "completed"
    },
    "tags": []
   },
   "outputs": [
    {
     "data": {
      "text/html": [
       "<div>\n",
       "<style scoped>\n",
       "    .dataframe tbody tr th:only-of-type {\n",
       "        vertical-align: middle;\n",
       "    }\n",
       "\n",
       "    .dataframe tbody tr th {\n",
       "        vertical-align: top;\n",
       "    }\n",
       "\n",
       "    .dataframe thead th {\n",
       "        text-align: right;\n",
       "    }\n",
       "</style>\n",
       "<table border=\"1\" class=\"dataframe\">\n",
       "  <thead>\n",
       "    <tr style=\"text-align: right;\">\n",
       "      <th></th>\n",
       "      <th>Id_str</th>\n",
       "      <th>ActiveTime_b</th>\n",
       "      <th>ActiveTime_e</th>\n",
       "    </tr>\n",
       "  </thead>\n",
       "  <tbody>\n",
       "    <tr>\n",
       "      <th>0</th>\n",
       "      <td>1503960366</td>\n",
       "      <td>17</td>\n",
       "      <td>10.0</td>\n",
       "    </tr>\n",
       "    <tr>\n",
       "      <th>1</th>\n",
       "      <td>1624580081</td>\n",
       "      <td>4</td>\n",
       "      <td>1.0</td>\n",
       "    </tr>\n",
       "    <tr>\n",
       "      <th>2</th>\n",
       "      <td>1644430081</td>\n",
       "      <td>10</td>\n",
       "      <td>4.0</td>\n",
       "    </tr>\n",
       "    <tr>\n",
       "      <th>3</th>\n",
       "      <td>2022484408</td>\n",
       "      <td>17</td>\n",
       "      <td>10.0</td>\n",
       "    </tr>\n",
       "    <tr>\n",
       "      <th>4</th>\n",
       "      <td>2347167796</td>\n",
       "      <td>9</td>\n",
       "      <td>0.0</td>\n",
       "    </tr>\n",
       "    <tr>\n",
       "      <th>5</th>\n",
       "      <td>2873212765</td>\n",
       "      <td>7</td>\n",
       "      <td>3.0</td>\n",
       "    </tr>\n",
       "    <tr>\n",
       "      <th>6</th>\n",
       "      <td>3372868164</td>\n",
       "      <td>2</td>\n",
       "      <td>0.0</td>\n",
       "    </tr>\n",
       "    <tr>\n",
       "      <th>7</th>\n",
       "      <td>3977333714</td>\n",
       "      <td>15</td>\n",
       "      <td>10.0</td>\n",
       "    </tr>\n",
       "    <tr>\n",
       "      <th>8</th>\n",
       "      <td>4020332650</td>\n",
       "      <td>2</td>\n",
       "      <td>2.0</td>\n",
       "    </tr>\n",
       "    <tr>\n",
       "      <th>9</th>\n",
       "      <td>4319703577</td>\n",
       "      <td>2</td>\n",
       "      <td>3.0</td>\n",
       "    </tr>\n",
       "    <tr>\n",
       "      <th>10</th>\n",
       "      <td>4388161847</td>\n",
       "      <td>10</td>\n",
       "      <td>7.0</td>\n",
       "    </tr>\n",
       "    <tr>\n",
       "      <th>11</th>\n",
       "      <td>4445114986</td>\n",
       "      <td>2</td>\n",
       "      <td>3.0</td>\n",
       "    </tr>\n",
       "    <tr>\n",
       "      <th>12</th>\n",
       "      <td>4558609924</td>\n",
       "      <td>6</td>\n",
       "      <td>5.0</td>\n",
       "    </tr>\n",
       "    <tr>\n",
       "      <th>13</th>\n",
       "      <td>4702921684</td>\n",
       "      <td>8</td>\n",
       "      <td>5.0</td>\n",
       "    </tr>\n",
       "    <tr>\n",
       "      <th>14</th>\n",
       "      <td>5553957443</td>\n",
       "      <td>11</td>\n",
       "      <td>5.0</td>\n",
       "    </tr>\n",
       "    <tr>\n",
       "      <th>15</th>\n",
       "      <td>5577150313</td>\n",
       "      <td>18</td>\n",
       "      <td>9.0</td>\n",
       "    </tr>\n",
       "    <tr>\n",
       "      <th>16</th>\n",
       "      <td>6117666160</td>\n",
       "      <td>1</td>\n",
       "      <td>0.0</td>\n",
       "    </tr>\n",
       "    <tr>\n",
       "      <th>17</th>\n",
       "      <td>6290855005</td>\n",
       "      <td>2</td>\n",
       "      <td>1.0</td>\n",
       "    </tr>\n",
       "    <tr>\n",
       "      <th>18</th>\n",
       "      <td>6775888955</td>\n",
       "      <td>7</td>\n",
       "      <td>2.0</td>\n",
       "    </tr>\n",
       "    <tr>\n",
       "      <th>19</th>\n",
       "      <td>6962181067</td>\n",
       "      <td>14</td>\n",
       "      <td>7.0</td>\n",
       "    </tr>\n",
       "    <tr>\n",
       "      <th>20</th>\n",
       "      <td>7007744171</td>\n",
       "      <td>13</td>\n",
       "      <td>4.0</td>\n",
       "    </tr>\n",
       "    <tr>\n",
       "      <th>21</th>\n",
       "      <td>7086361926</td>\n",
       "      <td>14</td>\n",
       "      <td>11.0</td>\n",
       "    </tr>\n",
       "    <tr>\n",
       "      <th>22</th>\n",
       "      <td>8053475328</td>\n",
       "      <td>18</td>\n",
       "      <td>10.0</td>\n",
       "    </tr>\n",
       "    <tr>\n",
       "      <th>23</th>\n",
       "      <td>8253242879</td>\n",
       "      <td>12</td>\n",
       "      <td>0.0</td>\n",
       "    </tr>\n",
       "    <tr>\n",
       "      <th>24</th>\n",
       "      <td>8378563200</td>\n",
       "      <td>12</td>\n",
       "      <td>8.0</td>\n",
       "    </tr>\n",
       "    <tr>\n",
       "      <th>25</th>\n",
       "      <td>8583815059</td>\n",
       "      <td>7</td>\n",
       "      <td>4.0</td>\n",
       "    </tr>\n",
       "    <tr>\n",
       "      <th>26</th>\n",
       "      <td>8792009665</td>\n",
       "      <td>1</td>\n",
       "      <td>0.0</td>\n",
       "    </tr>\n",
       "    <tr>\n",
       "      <th>27</th>\n",
       "      <td>8877689391</td>\n",
       "      <td>17</td>\n",
       "      <td>7.0</td>\n",
       "    </tr>\n",
       "  </tbody>\n",
       "</table>\n",
       "</div>"
      ],
      "text/plain": [
       "        Id_str  ActiveTime_b  ActiveTime_e\n",
       "0   1503960366            17          10.0\n",
       "1   1624580081             4           1.0\n",
       "2   1644430081            10           4.0\n",
       "3   2022484408            17          10.0\n",
       "4   2347167796             9           0.0\n",
       "5   2873212765             7           3.0\n",
       "6   3372868164             2           0.0\n",
       "7   3977333714            15          10.0\n",
       "8   4020332650             2           2.0\n",
       "9   4319703577             2           3.0\n",
       "10  4388161847            10           7.0\n",
       "11  4445114986             2           3.0\n",
       "12  4558609924             6           5.0\n",
       "13  4702921684             8           5.0\n",
       "14  5553957443            11           5.0\n",
       "15  5577150313            18           9.0\n",
       "16  6117666160             1           0.0\n",
       "17  6290855005             2           1.0\n",
       "18  6775888955             7           2.0\n",
       "19  6962181067            14           7.0\n",
       "20  7007744171            13           4.0\n",
       "21  7086361926            14          11.0\n",
       "22  8053475328            18          10.0\n",
       "23  8253242879            12           0.0\n",
       "24  8378563200            12           8.0\n",
       "25  8583815059             7           4.0\n",
       "26  8792009665             1           0.0\n",
       "27  8877689391            17           7.0"
      ]
     },
     "execution_count": 29,
     "metadata": {},
     "output_type": "execute_result"
    }
   ],
   "source": [
    "all_count = b_count.merge(e_count, how = 'outer', on = 'Id_str', suffixes=('_b', '_e')).fillna(0)\n",
    "all_count"
   ]
  },
  {
   "cell_type": "code",
   "execution_count": 30,
   "id": "51bf1d76",
   "metadata": {
    "execution": {
     "iopub.execute_input": "2022-06-14T03:56:42.852403Z",
     "iopub.status.busy": "2022-06-14T03:56:42.851761Z",
     "iopub.status.idle": "2022-06-14T03:56:42.863956Z",
     "shell.execute_reply": "2022-06-14T03:56:42.863323Z"
    },
    "papermill": {
     "duration": 0.042441,
     "end_time": "2022-06-14T03:56:42.865956",
     "exception": false,
     "start_time": "2022-06-14T03:56:42.823515",
     "status": "completed"
    },
    "tags": []
   },
   "outputs": [
    {
     "data": {
      "text/html": [
       "<div>\n",
       "<style scoped>\n",
       "    .dataframe tbody tr th:only-of-type {\n",
       "        vertical-align: middle;\n",
       "    }\n",
       "\n",
       "    .dataframe tbody tr th {\n",
       "        vertical-align: top;\n",
       "    }\n",
       "\n",
       "    .dataframe thead th {\n",
       "        text-align: right;\n",
       "    }\n",
       "</style>\n",
       "<table border=\"1\" class=\"dataframe\">\n",
       "  <thead>\n",
       "    <tr style=\"text-align: right;\">\n",
       "      <th></th>\n",
       "      <th>Id_str</th>\n",
       "      <th>variable</th>\n",
       "      <th>value</th>\n",
       "    </tr>\n",
       "  </thead>\n",
       "  <tbody>\n",
       "    <tr>\n",
       "      <th>0</th>\n",
       "      <td>1503960366</td>\n",
       "      <td>ActiveTime_b</td>\n",
       "      <td>17.0</td>\n",
       "    </tr>\n",
       "    <tr>\n",
       "      <th>1</th>\n",
       "      <td>1624580081</td>\n",
       "      <td>ActiveTime_b</td>\n",
       "      <td>4.0</td>\n",
       "    </tr>\n",
       "    <tr>\n",
       "      <th>2</th>\n",
       "      <td>1644430081</td>\n",
       "      <td>ActiveTime_b</td>\n",
       "      <td>10.0</td>\n",
       "    </tr>\n",
       "    <tr>\n",
       "      <th>3</th>\n",
       "      <td>2022484408</td>\n",
       "      <td>ActiveTime_b</td>\n",
       "      <td>17.0</td>\n",
       "    </tr>\n",
       "    <tr>\n",
       "      <th>4</th>\n",
       "      <td>2347167796</td>\n",
       "      <td>ActiveTime_b</td>\n",
       "      <td>9.0</td>\n",
       "    </tr>\n",
       "  </tbody>\n",
       "</table>\n",
       "</div>"
      ],
      "text/plain": [
       "       Id_str      variable  value\n",
       "0  1503960366  ActiveTime_b   17.0\n",
       "1  1624580081  ActiveTime_b    4.0\n",
       "2  1644430081  ActiveTime_b   10.0\n",
       "3  2022484408  ActiveTime_b   17.0\n",
       "4  2347167796  ActiveTime_b    9.0"
      ]
     },
     "execution_count": 30,
     "metadata": {},
     "output_type": "execute_result"
    }
   ],
   "source": [
    "ac=pd.melt(all_count, id_vars = 'Id_str', value_vars = ['ActiveTime_b', 'ActiveTime_e'])\n",
    "ac.head()"
   ]
  },
  {
   "cell_type": "code",
   "execution_count": 31,
   "id": "464bc3a3",
   "metadata": {
    "execution": {
     "iopub.execute_input": "2022-06-14T03:56:42.918726Z",
     "iopub.status.busy": "2022-06-14T03:56:42.918191Z",
     "iopub.status.idle": "2022-06-14T03:56:42.923528Z",
     "shell.execute_reply": "2022-06-14T03:56:42.922933Z"
    },
    "papermill": {
     "duration": 0.033792,
     "end_time": "2022-06-14T03:56:42.925304",
     "exception": false,
     "start_time": "2022-06-14T03:56:42.891512",
     "status": "completed"
    },
    "tags": []
   },
   "outputs": [
    {
     "data": {
      "text/plain": [
       "28"
      ]
     },
     "execution_count": 31,
     "metadata": {},
     "output_type": "execute_result"
    }
   ],
   "source": [
    "ac['Id_str'].nunique() "
   ]
  },
  {
   "cell_type": "code",
   "execution_count": 32,
   "id": "ac274aac",
   "metadata": {
    "execution": {
     "iopub.execute_input": "2022-06-14T03:56:42.979039Z",
     "iopub.status.busy": "2022-06-14T03:56:42.978402Z",
     "iopub.status.idle": "2022-06-14T03:56:43.671037Z",
     "shell.execute_reply": "2022-06-14T03:56:43.670331Z"
    },
    "papermill": {
     "duration": 0.721565,
     "end_time": "2022-06-14T03:56:43.672770",
     "exception": false,
     "start_time": "2022-06-14T03:56:42.951205",
     "status": "completed"
    },
    "tags": []
   },
   "outputs": [
    {
     "data": {
      "text/plain": [
       "<Figure size 720x720 with 0 Axes>"
      ]
     },
     "metadata": {},
     "output_type": "display_data"
    },
    {
     "data": {
      "image/png": "[encoded data removed]",
      "text/plain": [
       "<Figure size 462.625x360 with 1 Axes>"
      ]
     },
     "metadata": {
      "needs_background": "light"
     },
     "output_type": "display_data"
    }
   ],
   "source": [
    "\n",
    "plt.gcf().set_size_inches(10,10)\n",
    "b=sns.catplot(x='Id_str', y = 'value', data=ac, palette='bright', hue = 'variable', kind='bar')\n",
    "plt.xticks(rotation = 90)\n",
    "#b.set_title(\"Count of days that had more than 30 min of activty for each user.\", fontsize=30)\n",
    "plt.show(); ##plots the ID vs Percent Activity "
   ]
  },
  {
   "cell_type": "markdown",
   "id": "2d7f5ffd",
   "metadata": {
    "papermill": {
     "duration": 0.028427,
     "end_time": "2022-06-14T03:56:43.718017",
     "exception": false,
     "start_time": "2022-06-14T03:56:43.689590",
     "status": "completed"
    },
    "tags": []
   },
   "source": [
    "#### The number of active days for users that were consistent went down as the month progressed. We can assume this is due to lack of motivation, or injury, or the novelty effect, or perhaps some other reason. Sending out surveys for users around the 20-30 mark would yield more information as to why we see a reduction in use.\n"
   ]
  },
  {
   "cell_type": "code",
   "execution_count": 33,
   "id": "748559db",
   "metadata": {
    "execution": {
     "iopub.execute_input": "2022-06-14T03:56:43.754812Z",
     "iopub.status.busy": "2022-06-14T03:56:43.754122Z",
     "iopub.status.idle": "2022-06-14T03:56:43.770506Z",
     "shell.execute_reply": "2022-06-14T03:56:43.769665Z"
    },
    "papermill": {
     "duration": 0.036036,
     "end_time": "2022-06-14T03:56:43.772122",
     "exception": false,
     "start_time": "2022-06-14T03:56:43.736086",
     "status": "completed"
    },
    "tags": []
   },
   "outputs": [
    {
     "data": {
      "text/html": [
       "<div>\n",
       "<style scoped>\n",
       "    .dataframe tbody tr th:only-of-type {\n",
       "        vertical-align: middle;\n",
       "    }\n",
       "\n",
       "    .dataframe tbody tr th {\n",
       "        vertical-align: top;\n",
       "    }\n",
       "\n",
       "    .dataframe thead th {\n",
       "        text-align: right;\n",
       "    }\n",
       "</style>\n",
       "<table border=\"1\" class=\"dataframe\">\n",
       "  <thead>\n",
       "    <tr style=\"text-align: right;\">\n",
       "      <th></th>\n",
       "      <th>Id_str</th>\n",
       "      <th>Day</th>\n",
       "      <th>TotalSteps</th>\n",
       "      <th>D_total</th>\n",
       "      <th>ActiveTime</th>\n",
       "      <th>PercentActive</th>\n",
       "    </tr>\n",
       "  </thead>\n",
       "  <tbody>\n",
       "    <tr>\n",
       "      <th>97</th>\n",
       "      <td>1844505072</td>\n",
       "      <td>2016-04-25</td>\n",
       "      <td>0</td>\n",
       "      <td>0.0</td>\n",
       "      <td>0</td>\n",
       "      <td>0.0</td>\n",
       "    </tr>\n",
       "    <tr>\n",
       "      <th>116</th>\n",
       "      <td>1844505072</td>\n",
       "      <td>2016-04-24</td>\n",
       "      <td>0</td>\n",
       "      <td>0.0</td>\n",
       "      <td>0</td>\n",
       "      <td>0.0</td>\n",
       "    </tr>\n",
       "    <tr>\n",
       "      <th>117</th>\n",
       "      <td>1844505072</td>\n",
       "      <td>2016-04-26</td>\n",
       "      <td>0</td>\n",
       "      <td>0.0</td>\n",
       "      <td>0</td>\n",
       "      <td>0.0</td>\n",
       "    </tr>\n",
       "    <tr>\n",
       "      <th>125</th>\n",
       "      <td>1927972279</td>\n",
       "      <td>2016-04-19</td>\n",
       "      <td>0</td>\n",
       "      <td>0.0</td>\n",
       "      <td>0</td>\n",
       "      <td>0.0</td>\n",
       "    </tr>\n",
       "    <tr>\n",
       "      <th>126</th>\n",
       "      <td>1927972279</td>\n",
       "      <td>2016-04-27</td>\n",
       "      <td>0</td>\n",
       "      <td>0.0</td>\n",
       "      <td>0</td>\n",
       "      <td>0.0</td>\n",
       "    </tr>\n",
       "  </tbody>\n",
       "</table>\n",
       "</div>"
      ],
      "text/plain": [
       "         Id_str        Day  TotalSteps  D_total  ActiveTime  PercentActive\n",
       "97   1844505072 2016-04-25           0      0.0           0            0.0\n",
       "116  1844505072 2016-04-24           0      0.0           0            0.0\n",
       "117  1844505072 2016-04-26           0      0.0           0            0.0\n",
       "125  1927972279 2016-04-19           0      0.0           0            0.0\n",
       "126  1927972279 2016-04-27           0      0.0           0            0.0"
      ]
     },
     "execution_count": 33,
     "metadata": {},
     "output_type": "execute_result"
    }
   ],
   "source": [
    "no_act_b = begin_month[begin_month['TotalSteps']==0]\n",
    "no_act_b.head() # creates table that counts inactive days for each user in the beginning of the month. "
   ]
  },
  {
   "cell_type": "code",
   "execution_count": 34,
   "id": "763632a4",
   "metadata": {
    "execution": {
     "iopub.execute_input": "2022-06-14T03:56:43.807628Z",
     "iopub.status.busy": "2022-06-14T03:56:43.807269Z",
     "iopub.status.idle": "2022-06-14T03:56:43.814842Z",
     "shell.execute_reply": "2022-06-14T03:56:43.814060Z"
    },
    "papermill": {
     "duration": 0.027022,
     "end_time": "2022-06-14T03:56:43.816400",
     "exception": false,
     "start_time": "2022-06-14T03:56:43.789378",
     "status": "completed"
    },
    "tags": []
   },
   "outputs": [
    {
     "data": {
      "text/plain": [
       "Id_str\n",
       "1844505072     3\n",
       "1927972279     8\n",
       "4020332650    13\n",
       "4057192912     1\n",
       "6117666160     4\n",
       "6290855005     4\n",
       "6775888955     6\n",
       "7086361926     1\n",
       "8253242879     1\n",
       "8792009665     4\n",
       "Name: TotalSteps, dtype: int64"
      ]
     },
     "execution_count": 34,
     "metadata": {},
     "output_type": "execute_result"
    }
   ],
   "source": [
    "no_act_b = no_act_b.groupby(['Id_str'], as_index = True)['TotalSteps'].size()\n",
    "no_act_b"
   ]
  },
  {
   "cell_type": "code",
   "execution_count": 35,
   "id": "93ac602c",
   "metadata": {
    "execution": {
     "iopub.execute_input": "2022-06-14T03:56:43.854705Z",
     "iopub.status.busy": "2022-06-14T03:56:43.853505Z",
     "iopub.status.idle": "2022-06-14T03:56:43.869950Z",
     "shell.execute_reply": "2022-06-14T03:56:43.869031Z"
    },
    "papermill": {
     "duration": 0.03782,
     "end_time": "2022-06-14T03:56:43.871633",
     "exception": false,
     "start_time": "2022-06-14T03:56:43.833813",
     "status": "completed"
    },
    "tags": []
   },
   "outputs": [
    {
     "data": {
      "text/html": [
       "<div>\n",
       "<style scoped>\n",
       "    .dataframe tbody tr th:only-of-type {\n",
       "        vertical-align: middle;\n",
       "    }\n",
       "\n",
       "    .dataframe tbody tr th {\n",
       "        vertical-align: top;\n",
       "    }\n",
       "\n",
       "    .dataframe thead th {\n",
       "        text-align: right;\n",
       "    }\n",
       "</style>\n",
       "<table border=\"1\" class=\"dataframe\">\n",
       "  <thead>\n",
       "    <tr style=\"text-align: right;\">\n",
       "      <th></th>\n",
       "      <th>Id_str</th>\n",
       "      <th>Day</th>\n",
       "      <th>TotalSteps</th>\n",
       "      <th>D_total</th>\n",
       "      <th>ActiveTime</th>\n",
       "      <th>PercentActive</th>\n",
       "    </tr>\n",
       "  </thead>\n",
       "  <tbody>\n",
       "    <tr>\n",
       "      <th>0</th>\n",
       "      <td>1503960366</td>\n",
       "      <td>2016-05-12</td>\n",
       "      <td>0</td>\n",
       "      <td>0.0</td>\n",
       "      <td>0</td>\n",
       "      <td>0.0</td>\n",
       "    </tr>\n",
       "    <tr>\n",
       "      <th>93</th>\n",
       "      <td>1844505072</td>\n",
       "      <td>2016-05-02</td>\n",
       "      <td>0</td>\n",
       "      <td>0.0</td>\n",
       "      <td>0</td>\n",
       "      <td>0.0</td>\n",
       "    </tr>\n",
       "    <tr>\n",
       "      <th>96</th>\n",
       "      <td>1844505072</td>\n",
       "      <td>2016-05-12</td>\n",
       "      <td>0</td>\n",
       "      <td>0.0</td>\n",
       "      <td>0</td>\n",
       "      <td>0.0</td>\n",
       "    </tr>\n",
       "    <tr>\n",
       "      <th>104</th>\n",
       "      <td>1844505072</td>\n",
       "      <td>2016-05-11</td>\n",
       "      <td>0</td>\n",
       "      <td>0.0</td>\n",
       "      <td>0</td>\n",
       "      <td>0.0</td>\n",
       "    </tr>\n",
       "    <tr>\n",
       "      <th>107</th>\n",
       "      <td>1844505072</td>\n",
       "      <td>2016-05-07</td>\n",
       "      <td>0</td>\n",
       "      <td>0.0</td>\n",
       "      <td>0</td>\n",
       "      <td>0.0</td>\n",
       "    </tr>\n",
       "  </tbody>\n",
       "</table>\n",
       "</div>"
      ],
      "text/plain": [
       "         Id_str        Day  TotalSteps  D_total  ActiveTime  PercentActive\n",
       "0    1503960366 2016-05-12           0      0.0           0            0.0\n",
       "93   1844505072 2016-05-02           0      0.0           0            0.0\n",
       "96   1844505072 2016-05-12           0      0.0           0            0.0\n",
       "104  1844505072 2016-05-11           0      0.0           0            0.0\n",
       "107  1844505072 2016-05-07           0      0.0           0            0.0"
      ]
     },
     "execution_count": 35,
     "metadata": {},
     "output_type": "execute_result"
    }
   ],
   "source": [
    "no_act_e = end_month[end_month['TotalSteps']==0]\n",
    "no_act_e.head() # creates table that counts inactive days for each user in the end of the month. "
   ]
  },
  {
   "cell_type": "code",
   "execution_count": 36,
   "id": "4aa21aaa",
   "metadata": {
    "execution": {
     "iopub.execute_input": "2022-06-14T03:56:43.907945Z",
     "iopub.status.busy": "2022-06-14T03:56:43.907485Z",
     "iopub.status.idle": "2022-06-14T03:56:43.917003Z",
     "shell.execute_reply": "2022-06-14T03:56:43.915926Z"
    },
    "papermill": {
     "duration": 0.029491,
     "end_time": "2022-06-14T03:56:43.918626",
     "exception": false,
     "start_time": "2022-06-14T03:56:43.889135",
     "status": "completed"
    },
    "tags": []
   },
   "outputs": [
    {
     "data": {
      "text/plain": [
       "Id_str\n",
       "1503960366    1\n",
       "1844505072    7\n",
       "1927972279    6\n",
       "4020332650    1\n",
       "4702921684    1\n",
       "5577150313    2\n",
       "6117666160    1\n",
       "6290855005    1\n",
       "6775888955    3\n",
       "7007744171    2\n",
       "8583815059    1\n",
       "8792009665    6\n",
       "Name: TotalSteps, dtype: int64"
      ]
     },
     "execution_count": 36,
     "metadata": {},
     "output_type": "execute_result"
    }
   ],
   "source": [
    "no_act_e = no_act_e.groupby(['Id_str'], as_index = True)['TotalSteps'].size()\n",
    "no_act_e"
   ]
  },
  {
   "cell_type": "code",
   "execution_count": 37,
   "id": "f1b35b29",
   "metadata": {
    "execution": {
     "iopub.execute_input": "2022-06-14T03:56:43.954385Z",
     "iopub.status.busy": "2022-06-14T03:56:43.954003Z",
     "iopub.status.idle": "2022-06-14T03:56:43.959226Z",
     "shell.execute_reply": "2022-06-14T03:56:43.958485Z"
    },
    "papermill": {
     "duration": 0.025073,
     "end_time": "2022-06-14T03:56:43.960881",
     "exception": false,
     "start_time": "2022-06-14T03:56:43.935808",
     "status": "completed"
    },
    "tags": []
   },
   "outputs": [
    {
     "data": {
      "text/plain": [
       "10"
      ]
     },
     "execution_count": 37,
     "metadata": {},
     "output_type": "execute_result"
    }
   ],
   "source": [
    "no_act_b.shape[0] #counts the number of users who had at least one day with no activity at the beginning of the month"
   ]
  },
  {
   "cell_type": "code",
   "execution_count": 38,
   "id": "2d44d72e",
   "metadata": {
    "execution": {
     "iopub.execute_input": "2022-06-14T03:56:43.998886Z",
     "iopub.status.busy": "2022-06-14T03:56:43.998471Z",
     "iopub.status.idle": "2022-06-14T03:56:44.004329Z",
     "shell.execute_reply": "2022-06-14T03:56:44.003596Z"
    },
    "papermill": {
     "duration": 0.0266,
     "end_time": "2022-06-14T03:56:44.005951",
     "exception": false,
     "start_time": "2022-06-14T03:56:43.979351",
     "status": "completed"
    },
    "tags": []
   },
   "outputs": [
    {
     "data": {
      "text/plain": [
       "12"
      ]
     },
     "execution_count": 38,
     "metadata": {},
     "output_type": "execute_result"
    }
   ],
   "source": [
    "no_act_e.shape[0] # counts the number of users who had at least one day with no activity at the end of the month. "
   ]
  },
  {
   "cell_type": "code",
   "execution_count": 39,
   "id": "f09ecc65",
   "metadata": {
    "execution": {
     "iopub.execute_input": "2022-06-14T03:56:44.042755Z",
     "iopub.status.busy": "2022-06-14T03:56:44.042361Z",
     "iopub.status.idle": "2022-06-14T03:56:44.053781Z",
     "shell.execute_reply": "2022-06-14T03:56:44.052998Z"
    },
    "papermill": {
     "duration": 0.031919,
     "end_time": "2022-06-14T03:56:44.055543",
     "exception": false,
     "start_time": "2022-06-14T03:56:44.023624",
     "status": "completed"
    },
    "tags": []
   },
   "outputs": [
    {
     "data": {
      "text/html": [
       "<div>\n",
       "<style scoped>\n",
       "    .dataframe tbody tr th:only-of-type {\n",
       "        vertical-align: middle;\n",
       "    }\n",
       "\n",
       "    .dataframe tbody tr th {\n",
       "        vertical-align: top;\n",
       "    }\n",
       "\n",
       "    .dataframe thead th {\n",
       "        text-align: right;\n",
       "    }\n",
       "</style>\n",
       "<table border=\"1\" class=\"dataframe\">\n",
       "  <thead>\n",
       "    <tr style=\"text-align: right;\">\n",
       "      <th></th>\n",
       "      <th>Id_str</th>\n",
       "      <th>Day</th>\n",
       "      <th>TotalSteps</th>\n",
       "      <th>D_total</th>\n",
       "      <th>ActiveTime</th>\n",
       "      <th>PercentActive</th>\n",
       "      <th>Percent_sleep</th>\n",
       "    </tr>\n",
       "  </thead>\n",
       "  <tbody>\n",
       "  </tbody>\n",
       "</table>\n",
       "</div>"
      ],
      "text/plain": [
       "Empty DataFrame\n",
       "Columns: [Id_str, Day, TotalSteps, D_total, ActiveTime, PercentActive, Percent_sleep]\n",
       "Index: []"
      ]
     },
     "execution_count": 39,
     "metadata": {},
     "output_type": "execute_result"
    }
   ],
   "source": [
    "no_act_s =ta[ta['TotalSteps']==0]\n",
    "no_act_s\n",
    "#creates a table with users who tracked sleep info and finds how many days they had with no activity. "
   ]
  },
  {
   "cell_type": "markdown",
   "id": "faefb406",
   "metadata": {
    "papermill": {
     "duration": 0.018363,
     "end_time": "2022-06-14T03:56:44.092087",
     "exception": false,
     "start_time": "2022-06-14T03:56:44.073724",
     "status": "completed"
    },
    "tags": []
   },
   "source": [
    "#### Tables above show that users who tracked weight information had no days with zero activity. Users who logged weight information also used their unit for other activities."
   ]
  },
  {
   "cell_type": "code",
   "execution_count": 40,
   "id": "4151c458",
   "metadata": {
    "execution": {
     "iopub.execute_input": "2022-06-14T03:56:44.131113Z",
     "iopub.status.busy": "2022-06-14T03:56:44.130708Z",
     "iopub.status.idle": "2022-06-14T03:56:45.721632Z",
     "shell.execute_reply": "2022-06-14T03:56:45.718924Z"
    },
    "papermill": {
     "duration": 1.611671,
     "end_time": "2022-06-14T03:56:45.723370",
     "exception": false,
     "start_time": "2022-06-14T03:56:44.111699",
     "status": "completed"
    },
    "tags": []
   },
   "outputs": [
    {
     "data": {
      "text/plain": [
       "<function matplotlib.pyplot.show(close=None, block=None)>"
      ]
     },
     "execution_count": 40,
     "metadata": {},
     "output_type": "execute_result"
    },
    {
     "data": {
      "image/png": "[encoded data removed]",
      "text/plain": [
       "<Figure size 1800x936 with 1 Axes>"
      ]
     },
     "metadata": {
      "needs_background": "light"
     },
     "output_type": "display_data"
    }
   ],
   "source": [
    "plt.figure(figsize = (25, 13))\n",
    "c= sns.lineplot(data=ta, x = 'ActiveTime' , y = 'Percent_sleep', ci = False ,hue='Id_str')\n",
    "c.set_title(\"Percent Sleep vs Active Time.\", fontsize=30);\n",
    "plt.show"
   ]
  },
  {
   "cell_type": "markdown",
   "id": "f780ee2c",
   "metadata": {
    "papermill": {
     "duration": 0.020326,
     "end_time": "2022-06-14T03:56:45.764005",
     "exception": false,
     "start_time": "2022-06-14T03:56:45.743679",
     "status": "completed"
    },
    "tags": []
   },
   "source": [
    "#### Percent sleep is meant to be an indicator of quality of sleep. We see no correlation or trends from the graph between active time and how much sleep users got at the end of the day. "
   ]
  },
  {
   "cell_type": "markdown",
   "id": "dd5b8e64",
   "metadata": {
    "papermill": {
     "duration": 0.01961,
     "end_time": "2022-06-14T03:56:45.804489",
     "exception": false,
     "start_time": "2022-06-14T03:56:45.784879",
     "status": "completed"
    },
    "tags": []
   },
   "source": [
    "##### Observations on use\n",
    "* Almost half the users missed at least one day of activity tracking.\n",
    "* There were more inactve days later in the month for the entire group.\n",
    "* Users who track more activities i.e. sleep and weight are more likely to use their device every day.\n",
    "* 4 users had 10 or more missed days of activity tracking. \n",
    "* 5 users had no days where they got at least 30 min of recommended daily activity. "
   ]
  },
  {
   "cell_type": "markdown",
   "id": "24074782",
   "metadata": {
    "papermill": {
     "duration": 0.019282,
     "end_time": "2022-06-14T03:56:45.843407",
     "exception": false,
     "start_time": "2022-06-14T03:56:45.824125",
     "status": "completed"
    },
    "tags": []
   },
   "source": [
    "## Act"
   ]
  },
  {
   "cell_type": "markdown",
   "id": "89f4e1e8",
   "metadata": {
    "papermill": {
     "duration": 0.019477,
     "end_time": "2022-06-14T03:56:45.882377",
     "exception": false,
     "start_time": "2022-06-14T03:56:45.862900",
     "status": "completed"
    },
    "tags": []
   },
   "source": [
    "This analysis and the recommendations from the data are limited. We had a small sample set and a small window, so we are only able to do a descriptive analysis rather than trying to create a model for prediction. \n",
    "1. What are some trends in smart device usage?\n",
    " * We can see that not all users are dedicated users. Further analysis using the hourly data can help us categorize users and create notifications to target users when they are most active with the device. \n",
    " * The fact that utilizing the weight and sleep function made for a more dedicated user leads us to think that ensuring users are aware and encouraged to use more of the features will create a more loyal user. \n",
    " * We can see that users used the device as positive feedback and that those that used the device more often had higher activitiy time, calories burned, and more steps.\n",
    "2. How could these trends apply to Bellabeat customers?\n",
    " * Time is a device similar to a fitbit so we can predict that users will wear the device almost daily and use it to track activity. Tailoring Time to Bellabeat customers using this information would be ideal. From the data we see that the more features the cutomers engage with on the product the more consistently they use the product. \n",
    "3. How could these trends help influence Bellabeat marketing strategy?\n",
    " * Creating targeted notifications to encourage keeping up with good habits as well as notifying of trends in activity will help create more loyal users. \n",
    " * Creating a survey for customers when we expect the novelty of the wear off can help us tailor the experience for the users and encourage them to continue engagement with their product or upsell them to a subscription to add on more features. "
   ]
  }
 ],
 "metadata": {
  "kernelspec": {
   "display_name": "Python 3",
   "language": "python",
   "name": "python3"
  },
  "language_info": {
   "codemirror_mode": {
    "name": "ipython",
    "version": 3
   },
   "file_extension": ".py",
   "mimetype": "text/x-python",
   "name": "python",
   "nbconvert_exporter": "python",
   "pygments_lexer": "ipython3",
   "version": "3.7.12"
  },
  "papermill": {
   "default_parameters": {},
   "duration": 19.532581,
   "end_time": "2022-06-14T03:56:46.822419",
   "environment_variables": {},
   "exception": null,
   "input_path": "__notebook__.ipynb",
   "output_path": "__notebook__.ipynb",
   "parameters": {},
   "start_time": "2022-06-14T03:56:27.289838",
   "version": "2.3.4"
  }
 },
 "nbformat": 4,
 "nbformat_minor": 5
}
